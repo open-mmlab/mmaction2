{
 "cells": [
  {
   "cell_type": "code",
   "execution_count": 1,
   "metadata": {
    "pycharm": {
     "is_executing": true
    }
   },
   "outputs": [],
   "source": [
    "import mmengine\n",
    "from mmaction.utils import register_all_modules\n",
    "from mmaction.apis import inference_recognizer, init_recognizer"
   ]
  },
  {
   "cell_type": "code",
   "execution_count": 2,
   "metadata": {},
   "outputs": [],
   "source": [
    "register_all_modules(True)"
   ]
  },
  {
   "cell_type": "code",
   "execution_count": 3,
   "metadata": {},
   "outputs": [],
   "source": [
    "config_path = 'configs/actionclip_vit-base-p32-res224-clip-pre_k400-rgb.py'\n",
    "checkpoint_path = 'https://download.openmmlab.com/mmaction/v1.0/projects/' \\\n",
    "                  'actionclip/actionclip_vit-base-p32-res224-clip-pre_k400-rgb/vit-b-32-8f.pth'\n",
    "labels = [\n",
    "    'fighting enemy',\n",
    "    'riding white horse', 'riding white horse to fighting enemy',\n",
    "    'riding brown horse', 'riding brown horse to fighting enemy',\n",
    "    'riding brown horse to fighting enemy in a war environment',\n",
    "    'riding brown horse to fighting enemy in a anime war environment'\n",
    "]"
   ]
  },
  {
   "cell_type": "code",
   "execution_count": 4,
   "metadata": {},
   "outputs": [],
   "source": [
    "# Update the labels, the default is the label list of K400.\n",
    "config = mmengine.Config.fromfile(config_path)\n",
    "config.model.labels_or_label_file = labels"
   ]
  },
  {
   "cell_type": "code",
   "execution_count": 5,
   "metadata": {},
   "outputs": [
    {
     "name": "stdout",
     "output_type": "stream",
     "text": [
      "Loads checkpoint by http backend from path: https://download.openmmlab.com/mmaction/v1.0/projects/actionclip/actionclip_vit-base-p32-res224-clip-pre_k400-rgb/vit-b-32-8f.pth\n"
     ]
    },
    {
     "name": "stderr",
     "output_type": "stream",
     "text": [
      "Downloading: \"https://download.openmmlab.com/mmaction/v1.0/projects/actionclip/actionclip_vit-base-p32-res224-clip-pre_k400-rgb/vit-b-32-8f.pth\" to C:\\Users\\wxDai/.cache\\torch\\hub\\checkpoints\\vit-b-32-8f.pth\n"
     ]
    }
   ],
   "source": [
    "model = init_recognizer(config=config, checkpoint=checkpoint_path)"
   ]
  },
  {
   "cell_type": "code",
   "execution_count": 6,
   "metadata": {},
   "outputs": [
    {
     "name": "stdout",
     "output_type": "stream",
     "text": [
      "04/28 20:56:02 - mmengine - \u001B[5m\u001B[4m\u001B[33mWARNING\u001B[0m - \"FileClient\" will be deprecated in future. Please use io functions in https://mmengine.readthedocs.io/en/latest/api/fileio.html#file-io\n",
      "04/28 20:56:02 - mmengine - \u001B[5m\u001B[4m\u001B[33mWARNING\u001B[0m - \"HardDiskBackend\" is the alias of \"LocalBackend\" and the former will be deprecated in future.\n"
     ]
    }
   ],
   "source": [
    "# The `counter_attack.mp4` can be downloaded from https://user-images.githubusercontent.com/58767402/235150092-5f2a73ef-7f07-478f-83ad-48e4c81bc54b.mp4\n",
    "pred_result = inference_recognizer(model, 'counter_attack.mp4')"
   ]
  },
  {
   "cell_type": "code",
   "execution_count": 7,
   "metadata": {},
   "outputs": [
    {
     "name": "stdout",
     "output_type": "stream",
     "text": [
      "\n",
      "Top predictions:\n",
      "\n",
      "                                                        fighting enemy: 0.05%\n",
      "                                                    riding white horse: 0.21%\n",
      "                                  riding white horse to fighting enemy: 1.55%\n",
      "                                                    riding brown horse: 0.76%\n",
      "                                  riding brown horse to fighting enemy: 4.20%\n",
      "             riding brown horse to fighting enemy in a war environment: 5.29%\n",
      "       riding brown horse to fighting enemy in a anime war environment: 87.94%\n"
     ]
    }
   ],
   "source": [
    "# Print the result\n",
    "print(\"\\nTop predictions:\\n\")\n",
    "for index, value in enumerate(pred_result.pred_scores.item.tolist()):\n",
    "    print(f\"{labels[index]:>70s}: {100 * value:.2f}%\")"
   ]
  }
 ],
 "metadata": {
  "kernelspec": {
   "display_name": "Python 3 (ipykernel)",
   "language": "python",
   "name": "python3"
  },
  "language_info": {
   "codemirror_mode": {
    "name": "ipython",
    "version": 3
   },
   "file_extension": ".py",
   "mimetype": "text/x-python",
   "name": "python",
   "nbconvert_exporter": "python",
   "pygments_lexer": "ipython3",
   "version": "3.10.8"
  }
 },
 "nbformat": 4,
 "nbformat_minor": 1
}