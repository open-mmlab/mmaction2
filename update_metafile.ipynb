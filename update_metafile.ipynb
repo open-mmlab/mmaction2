{
 "cells": [
  {
   "cell_type": "code",
   "execution_count": 22,
   "id": "cf1c9fc4-aa46-48eb-8886-d9ec0a75e06d",
   "metadata": {},
   "outputs": [],
   "source": [
    "import mmcv\n",
    "import os\n",
    "import os.path as osp\n",
    "from mmcv import Config, load, dump\n",
    "import functools\n",
    "from functools import partial\n",
    "from mmaction.models import build_model"
   ]
  },
  {
   "cell_type": "code",
   "execution_count": 23,
   "id": "c28314bc-def6-4949-aa07-4ee0f130ece3",
   "metadata": {},
   "outputs": [],
   "source": [
    "def ls_conf(d):\n",
    "    walks = list(os.walk(d))\n",
    "    configs = [[osp.join(x[0], y) for y in x[2] if y.endswith('.py')] for x in walks]\n",
    "    ret = []\n",
    "    for x in configs:\n",
    "        ret.extend(x)\n",
    "    return ret"
   ]
  },
  {
   "cell_type": "code",
   "execution_count": 75,
   "id": "a09bc271-ab67-4f2a-9fbb-68cb1d1c8c04",
   "metadata": {},
   "outputs": [],
   "source": [
    "cfgs = ls_conf('configs/recognition/tsn')\n"
   ]
  },
  {
   "cell_type": "code",
   "execution_count": 76,
   "id": "fa31c9c8-43cc-43e0-b833-3cc4461338c7",
   "metadata": {},
   "outputs": [],
   "source": [
    "meta = load('configs/recognition/tsn/metafile.yml')"
   ]
  },
  {
   "cell_type": "code",
   "execution_count": 3,
   "id": "3d767fb1-c567-45cd-ad3c-f5a13f69ffb6",
   "metadata": {},
   "outputs": [],
   "source": [
    "metafiles = load('model_zoo.yml')"
   ]
  },
  {
   "cell_type": "code",
   "execution_count": 100,
   "id": "3b528663-fdf1-4442-92cb-d4c63cf8cb2e",
   "metadata": {},
   "outputs": [],
   "source": [
    "for item in metafiles['Import']:\n",
    "    meta = load(item)\n",
    "    for model in meta['Models']:\n",
    "        if 'gpu_mem(M)' in model:\n",
    "            model.pop('gpu_mem(M)')\n",
    "        if 'iter time(s)' in model:\n",
    "            model.pop('iter time(s)')\n",
    "        if 'inference_time(video/s)' in model:\n",
    "            model.pop('inference_time(video/s)')\n",
    "        if 'gpus' in model['Metadata']:\n",
    "            gpus = model['Metadata'].pop('gpus')\n",
    "            model['Metadata']['Training Resources'] = f'{gpus} GPUs'\n",
    "        if 'Training BatchSize / GPU' in model['Metadata']:\n",
    "            batch = model['Metadata'].pop('Training BatchSize / GPU')\n",
    "            model['Metadata']['Batch Size'] = batch\n",
    "    dump(meta, item)"
   ]
  },
  {
   "cell_type": "code",
   "execution_count": 28,
   "id": "fdda026c-493d-4cbb-8cb1-284d01d2c39d",
   "metadata": {},
   "outputs": [],
   "source": [
    "# Unify keys\n",
    "keys = set()\n",
    "meta_keys = set()\n",
    "metric_keys = set()\n",
    "for item in metafiles['Import']:\n",
    "    meta = load(item)\n",
    "    for model in meta['Models']:\n",
    "        if 'config' in model:\n",
    "            print(model)\n",
    "        keys = keys.union(set(model.keys()))\n",
    "        meta_keys = meta_keys.union(set(model['Metadata'].keys()))\n",
    "        assert len(model['Results']) == 1\n",
    "        try:\n",
    "            metrics = model['Results'][0]['Metrics'].keys()\n",
    "        except:\n",
    "            print(item, model)\n",
    "        metric_keys = metric_keys.union(set(metrics))"
   ]
  },
  {
   "cell_type": "code",
   "execution_count": 29,
   "id": "a7c11ee5-e8ca-42cd-9368-7413eccfe8b2",
   "metadata": {},
   "outputs": [
    {
     "name": "stdout",
     "output_type": "stream",
     "text": [
      "{'mAP', 'mAP@0.3', 'top5 accuracy delta [w. RGB]', 'Top 1 Accuracy [w. RGB]', 'top1 10-view', 'mean Top 1 Accuracy', 'AP@0.95', 'AR@100', 'mAP@0.4', 'AUC', 'Top 1 Accuracy (efficient)', 'top5 accuracy [w. RGB]', 'top5 accuracy', 'AP@0.75', 'mAP@0.5', 'Top 1 Accuracy', 'AP@0.5', 'top5 accuracy (efficient)', 'Top 1 Accuracy delta [w. RGB]'}\n"
     ]
    }
   ],
   "source": [
    "print(metric_keys)"
   ]
  },
  {
   "cell_type": "code",
   "execution_count": 27,
   "id": "de32047b-83b2-43a5-9c62-09b62fff141b",
   "metadata": {},
   "outputs": [],
   "source": [
    "for item in metafiles['Import']:\n",
    "    meta = load(item)\n",
    "    for model in meta['Models']:\n",
    "        metrics = model['Results'][0]['Metrics']\n",
    "        metrics = {k.replace('top1 accuracy', 'Top 1 Accuracy'): v for k, v in metrics.items()}\n",
    "        metrics = {k.replace('top5 accuracy (accurate)', 'Top 5 Accuracy'): v for k, v in metrics.items()}\n",
    "        metrics = {k.replace('mean top1 accuracy', 'Mean Top 1 Accuracy'): v for k, v in metrics.items()}\n",
    "        model['Results'][0]['Metrics'] = metrics\n",
    "    dump(meta, item)"
   ]
  },
  {
   "cell_type": "code",
   "execution_count": 112,
   "id": "57b6fb49-b630-426e-b453-2dfcfd08427c",
   "metadata": {},
   "outputs": [
    {
     "data": {
      "text/plain": [
       "{'Config',\n",
       " 'In Collection',\n",
       " 'Metadata',\n",
       " 'Modality',\n",
       " 'Name',\n",
       " 'Results',\n",
       " 'Training Json Log',\n",
       " 'Training Log',\n",
       " 'Weights',\n",
       " 'delta top1 acc (efficient/accurate)',\n",
       " 'delta top5 acc (efficient/accurate)',\n",
       " 'reference mAP@0.3',\n",
       " 'reference mAP@0.4',\n",
       " 'reference mAP@0.5',\n",
       " 'reference top1 10-view',\n",
       " 'reference top1 30-view',\n",
       " 'reference top1 acc (efficient/accurate)',\n",
       " 'reference top5 acc (efficient/accurate)',\n",
       " 'refrence ckpt',\n",
       " 'refrence json',\n",
       " 'tag category'}"
      ]
     },
     "execution_count": 112,
     "metadata": {},
     "output_type": "execute_result"
    }
   ],
   "source": [
    "keys"
   ]
  },
  {
   "cell_type": "code",
   "execution_count": 113,
   "id": "d2732fcf-0507-4f91-a4c7-153a5b213007",
   "metadata": {},
   "outputs": [
    {
     "data": {
      "text/plain": [
       "{'Architecture',\n",
       " 'Batch Size',\n",
       " 'Epochs',\n",
       " 'Input',\n",
       " 'Modality',\n",
       " 'Parameters',\n",
       " 'Pretrained',\n",
       " 'Resolution',\n",
       " 'Training Data',\n",
       " 'Training Resources',\n",
       " 'feature',\n",
       " 'n_fft',\n",
       " 'pseudo heatmap'}"
      ]
     },
     "execution_count": 113,
     "metadata": {},
     "output_type": "execute_result"
    }
   ],
   "source": [
    "meta_keys"
   ]
  },
  {
   "cell_type": "code",
   "execution_count": 90,
   "id": "7e92cd4f-1d42-4ad8-b1a5-c6723bb1ecfd",
   "metadata": {},
   "outputs": [
    {
     "data": {
      "text/plain": [
       "{'Config': 'configs/recognition/tsn/tsn_r50_1x1x3_75e_ucf101_rgb.py',\n",
       " 'In Collection': 'TSN',\n",
       " 'Metadata': {'Architecture': 'ResNet50',\n",
       "  'Epochs': 75,\n",
       "  'Parameters': 23714981,\n",
       "  'Training BatchSize / GPU': 32,\n",
       "  'Training Data': 'UCF101',\n",
       "  'gpus': 8,\n",
       "  'pretrain': 'ImageNet'},\n",
       " 'Modality': 'RGB',\n",
       " 'Name': 'tsn_r50_1x1x3_75e_ucf101_rgb',\n",
       " 'Results': [{'Dataset': 'UCF101',\n",
       "   'Metrics': {'top1 acc': 83.03, 'top5 acc': 96.78},\n",
       "   'Task': 'Action Recognition'}],\n",
       " 'Training Json Log': 'https://download.openmmlab.com/mmaction/recognition/tsn/tsn_r50_1x1x3_75e_ucf101_rgb/tsn_r50_1x1x3_75e_ucf101_rgb_20201023.json',\n",
       " 'Training Log': 'https://download.openmmlab.com/mmaction/recognition/tsn/tsn_r50_1x1x3_75e_ucf101_rgb/tsn_r50_1x1x3_75e_ucf101_rgb_20201023.log',\n",
       " 'Weights': 'https://download.openmmlab.com/mmaction/recognition/tsn/tsn_r50_1x1x3_75e_ucf101_rgb/tsn_r50_1x1x3_75e_ucf101_rgb_20201023-d85ab600.pth',\n",
       " 'config': '[tsn_r50_1x1x3_75e_ucf101_rgb](/configs/recognition/tsn/tsn_r50_1x1x3_75e_ucf101_rgb.py)',\n",
       " 'gpu_mem(M)': '8332'}"
      ]
     },
     "execution_count": 90,
     "metadata": {},
     "output_type": "execute_result"
    }
   ],
   "source": [
    "meta['Models'][0]"
   ]
  },
  {
   "cell_type": "code",
   "execution_count": null,
   "id": "a944c0de-bc38-4ae4-9674-45aad55c9ff4",
   "metadata": {},
   "outputs": [],
   "source": []
  }
 ],
 "metadata": {
  "kernelspec": {
   "display_name": "Python 3",
   "language": "python",
   "name": "python3"
  },
  "language_info": {
   "codemirror_mode": {
    "name": "ipython",
    "version": 3
   },
   "file_extension": ".py",
   "mimetype": "text/x-python",
   "name": "python",
   "nbconvert_exporter": "python",
   "pygments_lexer": "ipython3",
   "version": "3.8.8"
  }
 },
 "nbformat": 4,
 "nbformat_minor": 5
}
