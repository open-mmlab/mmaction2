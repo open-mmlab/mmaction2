{
 "nbformat": 4,
 "nbformat_minor": 0,
 "metadata": {
  "colab": {
   "name": "Copy of MMAction2 Tutorial.ipynb",
   "provenance": [],
   "authorship_tag": "ABX9TyM824ReP9DEsaabcv73pDaG",
   "include_colab_link": true
  },
  "kernelspec": {
   "name": "python3",
   "display_name": "Python 3"
  },
  "accelerator": "GPU",
  "widgets": {
   "application/vnd.jupyter.widget-state+json": {
    "21a4bef0124d48fd850fc768766da9b5": {
     "model_module": "@jupyter-widgets/controls",
     "model_name": "HBoxModel",
     "state": {
      "_view_name": "HBoxView",
      "_dom_classes": [],
      "_model_name": "HBoxModel",
      "_view_module": "@jupyter-widgets/controls",
      "_model_module_version": "1.5.0",
      "_view_count": null,
      "_view_module_version": "1.5.0",
      "box_style": "",
      "layout": "IPY_MODEL_810d89282d9d4c939ab4d3cb904c3954",
      "_model_module": "@jupyter-widgets/controls",
      "children": [
       "IPY_MODEL_ca6d1ea713f04397ad424fed870e71b2",
       "IPY_MODEL_ca1b92209d9a4109b0d80330005762cf"
      ]
     }
    },
    "810d89282d9d4c939ab4d3cb904c3954": {
     "model_module": "@jupyter-widgets/base",
     "model_name": "LayoutModel",
     "state": {
      "_view_name": "LayoutView",
      "grid_template_rows": null,
      "right": null,
      "justify_content": null,
      "_view_module": "@jupyter-widgets/base",
      "overflow": null,
      "_model_module_version": "1.2.0",
      "_view_count": null,
      "flex_flow": null,
      "width": null,
      "min_width": null,
      "border": null,
      "align_items": null,
      "bottom": null,
      "_model_module": "@jupyter-widgets/base",
      "top": null,
      "grid_column": null,
      "overflow_y": null,
      "overflow_x": null,
      "grid_auto_flow": null,
      "grid_area": null,
      "grid_template_columns": null,
      "flex": null,
      "_model_name": "LayoutModel",
      "justify_items": null,
      "grid_row": null,
      "max_height": null,
      "align_content": null,
      "visibility": null,
      "align_self": null,
      "height": null,
      "min_height": null,
      "padding": null,
      "grid_auto_rows": null,
      "grid_gap": null,
      "max_width": null,
      "order": null,
      "_view_module_version": "1.2.0",
      "grid_template_areas": null,
      "object_position": null,
      "object_fit": null,
      "grid_auto_columns": null,
      "margin": null,
      "display": null,
      "left": null
     }
    },
    "ca6d1ea713f04397ad424fed870e71b2": {
     "model_module": "@jupyter-widgets/controls",
     "model_name": "FloatProgressModel",
     "state": {
      "_view_name": "ProgressView",
      "style": "IPY_MODEL_5c9a171c5b6249e994147896ee1512e7",
      "_dom_classes": [],
      "description": "100%",
      "_model_name": "FloatProgressModel",
      "bar_style": "success",
      "max": 102502400,
      "_view_module": "@jupyter-widgets/controls",
      "_model_module_version": "1.5.0",
      "value": 102502400,
      "_view_count": null,
      "_view_module_version": "1.5.0",
      "orientation": "horizontal",
      "min": 0,
      "description_tooltip": null,
      "_model_module": "@jupyter-widgets/controls",
      "layout": "IPY_MODEL_92c0bea08845438299ab62d4ec7b8c42"
     }
    },
    "ca1b92209d9a4109b0d80330005762cf": {
     "model_module": "@jupyter-widgets/controls",
     "model_name": "HTMLModel",
     "state": {
      "_view_name": "HTMLView",
      "style": "IPY_MODEL_9f323e47627a4bdebbf33ae24349b62d",
      "_dom_classes": [],
      "description": "",
      "_model_name": "HTMLModel",
      "placeholder": "​",
      "_view_module": "@jupyter-widgets/controls",
      "_model_module_version": "1.5.0",
      "value": " 97.8M/97.8M [00:26&lt;00:00, 3.87MB/s]",
      "_view_count": null,
      "_view_module_version": "1.5.0",
      "description_tooltip": null,
      "_model_module": "@jupyter-widgets/controls",
      "layout": "IPY_MODEL_3ded7bdc0e2c4ad890b8a1d9261649c9"
     }
    },
    "5c9a171c5b6249e994147896ee1512e7": {
     "model_module": "@jupyter-widgets/controls",
     "model_name": "ProgressStyleModel",
     "state": {
      "_view_name": "StyleView",
      "_model_name": "ProgressStyleModel",
      "description_width": "initial",
      "_view_module": "@jupyter-widgets/base",
      "_model_module_version": "1.5.0",
      "_view_count": null,
      "_view_module_version": "1.2.0",
      "bar_color": null,
      "_model_module": "@jupyter-widgets/controls"
     }
    },
    "92c0bea08845438299ab62d4ec7b8c42": {
     "model_module": "@jupyter-widgets/base",
     "model_name": "LayoutModel",
     "state": {
      "_view_name": "LayoutView",
      "grid_template_rows": null,
      "right": null,
      "justify_content": null,
      "_view_module": "@jupyter-widgets/base",
      "overflow": null,
      "_model_module_version": "1.2.0",
      "_view_count": null,
      "flex_flow": null,
      "width": null,
      "min_width": null,
      "border": null,
      "align_items": null,
      "bottom": null,
      "_model_module": "@jupyter-widgets/base",
      "top": null,
      "grid_column": null,
      "overflow_y": null,
      "overflow_x": null,
      "grid_auto_flow": null,
      "grid_area": null,
      "grid_template_columns": null,
      "flex": null,
      "_model_name": "LayoutModel",
      "justify_items": null,
      "grid_row": null,
      "max_height": null,
      "align_content": null,
      "visibility": null,
      "align_self": null,
      "height": null,
      "min_height": null,
      "padding": null,
      "grid_auto_rows": null,
      "grid_gap": null,
      "max_width": null,
      "order": null,
      "_view_module_version": "1.2.0",
      "grid_template_areas": null,
      "object_position": null,
      "object_fit": null,
      "grid_auto_columns": null,
      "margin": null,
      "display": null,
      "left": null
     }
    },
    "9f323e47627a4bdebbf33ae24349b62d": {
     "model_module": "@jupyter-widgets/controls",
     "model_name": "DescriptionStyleModel",
     "state": {
      "_view_name": "StyleView",
      "_model_name": "DescriptionStyleModel",
      "description_width": "",
      "_view_module": "@jupyter-widgets/base",
      "_model_module_version": "1.5.0",
      "_view_count": null,
      "_view_module_version": "1.2.0",
      "_model_module": "@jupyter-widgets/controls"
     }
    },
    "3ded7bdc0e2c4ad890b8a1d9261649c9": {
     "model_module": "@jupyter-widgets/base",
     "model_name": "LayoutModel",
     "state": {
      "_view_name": "LayoutView",
      "grid_template_rows": null,
      "right": null,
      "justify_content": null,
      "_view_module": "@jupyter-widgets/base",
      "overflow": null,
      "_model_module_version": "1.2.0",
      "_view_count": null,
      "flex_flow": null,
      "width": null,
      "min_width": null,
      "border": null,
      "align_items": null,
      "bottom": null,
      "_model_module": "@jupyter-widgets/base",
      "top": null,
      "grid_column": null,
      "overflow_y": null,
      "overflow_x": null,
      "grid_auto_flow": null,
      "grid_area": null,
      "grid_template_columns": null,
      "flex": null,
      "_model_name": "LayoutModel",
      "justify_items": null,
      "grid_row": null,
      "max_height": null,
      "align_content": null,
      "visibility": null,
      "align_self": null,
      "height": null,
      "min_height": null,
      "padding": null,
      "grid_auto_rows": null,
      "grid_gap": null,
      "max_width": null,
      "order": null,
      "_view_module_version": "1.2.0",
      "grid_template_areas": null,
      "object_position": null,
      "object_fit": null,
      "grid_auto_columns": null,
      "margin": null,
      "display": null,
      "left": null
     }
    }
   }
  },
  "pycharm": {
   "stem_cell": {
    "cell_type": "raw",
    "source": [],
    "metadata": {
     "collapsed": false
    }
   }
  }
 },
 "cells": [
  {
   "cell_type": "markdown",
   "metadata": {
    "id": "view-in-github",
    "colab_type": "text"
   },
   "source": [
    "<a href=\"https://colab.research.google.com/github/open-mmlab/mmaction2/blob/master/demo/mmaction2_tutorial.ipynb\" target=\"_parent\"><img src=\"https://colab.research.google.com/assets/colab-badge.svg\" alt=\"Open In Colab\"/></a>"
   ]
  },
  {
   "cell_type": "markdown",
   "metadata": {
    "id": "VcjSRFELVbNk",
    "colab_type": "text"
   },
   "source": [
    "# MMAction2 Tutorial\n",
    "\n",
    "Welcome to MMAction2! This is the official colab tutorial for using MMAction2. In this tutorial, you will learn\n",
    "- Perform inference with a MMAction2 recognizer.\n",
    "- Train a new recognizer with a new dataset.\n",
    "\n",
    "Let's start!"
   ]
  },
  {
   "cell_type": "markdown",
   "metadata": {
    "id": "7LqHGkGEVqpm",
    "colab_type": "text"
   },
   "source": [
    "## Install MMAction2"
   ]
  },
  {
   "cell_type": "code",
   "metadata": {
    "id": "Bf8PpPXtVvmg",
    "colab_type": "code",
    "colab": {
     "base_uri": "https://localhost:8080/",
     "height": 170
    },
    "outputId": "82418d99-3c91-49c6-db02-48193d41e9b7"
   },
   "source": [
    "# Check nvcc version\n",
    "!nvcc -V\n",
    "# Check GCC version\n",
    "!gcc --version"
   ],
   "execution_count": null,
   "outputs": [
    {
     "output_type": "stream",
     "text": [
      "nvcc: NVIDIA (R) Cuda compiler driver\n",
      "Copyright (c) 2005-2019 NVIDIA Corporation\n",
      "Built on Sun_Jul_28_19:07:16_PDT_2019\n",
      "Cuda compilation tools, release 10.1, V10.1.243\n",
      "gcc (Ubuntu 7.5.0-3ubuntu1~18.04) 7.5.0\n",
      "Copyright (C) 2017 Free Software Foundation, Inc.\n",
      "This is free software; see the source for copying conditions.  There is NO\n",
      "warranty; not even for MERCHANTABILITY or FITNESS FOR A PARTICULAR PURPOSE.\n",
      "\n"
     ],
     "name": "stdout"
    }
   ]
  },
  {
   "cell_type": "code",
   "metadata": {
    "id": "5PAJ4ArzV5Ry",
    "colab_type": "code",
    "colab": {
     "base_uri": "https://localhost:8080/",
     "height": 1000
    },
    "outputId": "ebd1f340-db77-4ef1-bd34-c53392fc25eb"
   },
   "source": [
    "# install dependencies: (use cu101 because colab has CUDA 10.1)\n",
    "!pip install -U torch==1.5.1+cu101 torchvision==0.6.1+cu101 -f https://download.pytorch.org/whl/torch_stable.html\n",
    "\n",
    "# Install mmaction2\n",
    "!rm -rf mmaction2\n",
    "!git clone https://github.com/open-mmlab/mmaction2.git\n",
    "%cd mmaction2\n",
    "!pip install -e .\n",
    "!pip install -r requirements/optional.txt"
   ],
   "execution_count": 2,
   "outputs": [
    {
     "output_type": "stream",
     "text": [
      "Looking in links: https://download.pytorch.org/whl/torch_stable.html\n",
      "Requirement already up-to-date: torch==1.5.1+cu101 in /usr/local/lib/python3.6/dist-packages (1.5.1+cu101)\n",
      "Requirement already up-to-date: torchvision==0.6.1+cu101 in /usr/local/lib/python3.6/dist-packages (0.6.1+cu101)\n",
      "Requirement already satisfied, skipping upgrade: future in /usr/local/lib/python3.6/dist-packages (from torch==1.5.1+cu101) (0.16.0)\n",
      "Requirement already satisfied, skipping upgrade: numpy in /usr/local/lib/python3.6/dist-packages (from torch==1.5.1+cu101) (1.18.5)\n",
      "Requirement already satisfied, skipping upgrade: pillow>=4.1.1 in /usr/local/lib/python3.6/dist-packages (from torchvision==0.6.1+cu101) (7.0.0)\n",
      "Cloning into 'mmaction2'...\n",
      "remote: Enumerating objects: 8, done.\u001b[K\n",
      "remote: Counting objects: 100% (8/8), done.\u001b[K\n",
      "remote: Compressing objects: 100% (7/7), done.\u001b[K\n",
      "remote: Total 4740 (delta 1), reused 4 (delta 1), pack-reused 4732\u001b[K\n",
      "Receiving objects: 100% (4740/4740), 29.67 MiB | 16.12 MiB/s, done.\n",
      "Resolving deltas: 100% (3174/3174), done.\n",
      "/content/mmaction2\n",
      "Obtaining file:///content/mmaction2\n",
      "Requirement already satisfied: matplotlib in /usr/local/lib/python3.6/dist-packages (from mmaction==0.1.0+78b68d5) (3.2.2)\n",
      "Collecting mmcv\n",
      "\u001b[?25l  Downloading https://files.pythonhosted.org/packages/a3/13/ffb0e134ab220901806299e4da010d5b2f6a96c3d3ed8a8705c813dfbf56/mmcv-1.0.2.tar.gz (234kB)\n",
      "\u001b[K     |████████████████████████████████| 235kB 7.5MB/s \n",
      "\u001b[?25hRequirement already satisfied: numpy in /usr/local/lib/python3.6/dist-packages (from mmaction==0.1.0+78b68d5) (1.18.5)\n",
      "Requirement already satisfied: opencv-contrib-python in /usr/local/lib/python3.6/dist-packages (from mmaction==0.1.0+78b68d5) (4.1.2.30)\n",
      "Collecting Pillow<=6.2.2\n",
      "\u001b[?25l  Downloading https://files.pythonhosted.org/packages/8a/fd/bbbc569f98f47813c50a116b539d97b3b17a86ac7a309f83b2022d26caf2/Pillow-6.2.2-cp36-cp36m-manylinux1_x86_64.whl (2.1MB)\n",
      "\u001b[K     |████████████████████████████████| 2.1MB 19.2MB/s \n",
      "\u001b[?25hRequirement already satisfied: kiwisolver>=1.0.1 in /usr/local/lib/python3.6/dist-packages (from matplotlib->mmaction==0.1.0+78b68d5) (1.2.0)\n",
      "Requirement already satisfied: python-dateutil>=2.1 in /usr/local/lib/python3.6/dist-packages (from matplotlib->mmaction==0.1.0+78b68d5) (2.8.1)\n",
      "Requirement already satisfied: cycler>=0.10 in /usr/local/lib/python3.6/dist-packages (from matplotlib->mmaction==0.1.0+78b68d5) (0.10.0)\n",
      "Requirement already satisfied: pyparsing!=2.0.4,!=2.1.2,!=2.1.6,>=2.0.1 in /usr/local/lib/python3.6/dist-packages (from matplotlib->mmaction==0.1.0+78b68d5) (2.4.7)\n",
      "Collecting addict\n",
      "  Downloading https://files.pythonhosted.org/packages/14/6f/beb258220417c1a0fe11e842f2e012a1be7eeeaa72a1d10ba17a804da367/addict-2.2.1-py3-none-any.whl\n",
      "Requirement already satisfied: pyyaml in /usr/local/lib/python3.6/dist-packages (from mmcv->mmaction==0.1.0+78b68d5) (3.13)\n",
      "Collecting yapf\n",
      "\u001b[?25l  Downloading https://files.pythonhosted.org/packages/c1/5d/d84677fe852bc5e091739acda444a9b6700ffc6b11a21b00dd244c8caef0/yapf-0.30.0-py2.py3-none-any.whl (190kB)\n",
      "\u001b[K     |████████████████████████████████| 194kB 43.1MB/s \n",
      "\u001b[?25hRequirement already satisfied: opencv-python>=3 in /usr/local/lib/python3.6/dist-packages (from mmcv->mmaction==0.1.0+78b68d5) (4.1.2.30)\n",
      "Requirement already satisfied: six>=1.5 in /usr/local/lib/python3.6/dist-packages (from python-dateutil>=2.1->matplotlib->mmaction==0.1.0+78b68d5) (1.12.0)\n",
      "Building wheels for collected packages: mmcv\n",
      "  Building wheel for mmcv (setup.py) ... \u001b[?25l\u001b[?25hdone\n",
      "  Created wheel for mmcv: filename=mmcv-1.0.2-cp36-cp36m-linux_x86_64.whl size=383274 sha256=36ddb4265db0e2db06c32c013a24ab4c3143048554bba6665abf58a245462209\n",
      "  Stored in directory: /root/.cache/pip/wheels/89/72/2f/090938947dcf1975a513b99748fcaf0277d18e834cf5d9095a\n",
      "Successfully built mmcv\n",
      "\u001b[31mERROR: albumentations 0.1.12 has requirement imgaug<0.2.7,>=0.2.5, but you'll have imgaug 0.2.9 which is incompatible.\u001b[0m\n",
      "Installing collected packages: addict, yapf, mmcv, Pillow, mmaction\n",
      "  Found existing installation: Pillow 7.0.0\n",
      "    Uninstalling Pillow-7.0.0:\n",
      "      Successfully uninstalled Pillow-7.0.0\n",
      "  Running setup.py develop for mmaction\n",
      "Successfully installed Pillow-6.2.2 addict-2.2.1 mmaction mmcv-1.0.2 yapf-0.30.0\n"
     ],
     "name": "stdout"
    },
    {
     "output_type": "display_data",
     "data": {
      "application/vnd.colab-display-data+json": {
       "pip_warning": {
        "packages": [
         "PIL"
        ]
       }
      }
     },
     "metadata": {
      "tags": []
     }
    },
    {
     "output_type": "stream",
     "text": [
      "Collecting decord\n",
      "\u001b[?25l  Downloading https://files.pythonhosted.org/packages/8b/2f/8578948cfdb9662a718ffb817291fc135084006f9558569a5af05fec3908/decord-0.4.0-py2.py3-none-manylinux1_x86_64.whl (11.8MB)\n",
      "\u001b[K     |████████████████████████████████| 11.8MB 25kB/s \n",
      "\u001b[?25hCollecting PyTurboJPEG\n",
      "  Downloading https://files.pythonhosted.org/packages/9d/f5/6106c673096b1bc1af716bbc9b17e542c77ccad5fafd150afb91ff18a6e8/PyTurboJPEG-1.4.1.tar.gz\n",
      "Collecting av\n",
      "\u001b[?25l  Downloading https://files.pythonhosted.org/packages/9e/62/9a992be76f8e13ce0e3a24a838191b546805545116f9fc869bd11bd21b5f/av-8.0.2-cp36-cp36m-manylinux2010_x86_64.whl (36.9MB)\n",
      "\u001b[K     |████████████████████████████████| 36.9MB 68kB/s \n",
      "\u001b[?25hRequirement already satisfied: numpy>=1.14.0 in /usr/local/lib/python3.6/dist-packages (from decord->-r requirements/optional.txt (line 1)) (1.18.5)\n",
      "Building wheels for collected packages: PyTurboJPEG\n",
      "  Building wheel for PyTurboJPEG (setup.py) ... \u001b[?25l\u001b[?25hdone\n",
      "  Created wheel for PyTurboJPEG: filename=PyTurboJPEG-1.4.1-cp36-none-any.whl size=7002 sha256=067e8a7fad1e7df3380d2245087766cc79f8bb38cf98d93f24ab1bea83e0bd9c\n",
      "  Stored in directory: /root/.cache/pip/wheels/c3/21/97/152eed6e60d59f1c432139dee7a2e89de44026ef1855b4c4d7\n",
      "Successfully built PyTurboJPEG\n",
      "Installing collected packages: decord, PyTurboJPEG, av\n",
      "Successfully installed PyTurboJPEG-1.4.1 av-8.0.2 decord-0.4.0\n"
     ],
     "name": "stdout"
    }
   ]
  },
  {
   "cell_type": "code",
   "metadata": {
    "id": "No_zZAFpWC-a",
    "colab_type": "code",
    "colab": {
     "base_uri": "https://localhost:8080/",
     "height": 51
    },
    "outputId": "39e61b80-65d6-4d85-8a5c-d58db2b34681"
   },
   "source": [
    "# Check Pytorch installation\n",
    "import torch, torchvision\n",
    "print(torch.__version__, torch.cuda.is_available())\n",
    "\n",
    "# Check MMAction2 installation\n",
    "import mmaction\n",
    "print(mmaction.__version__)"
   ],
   "execution_count": 3,
   "outputs": [
    {
     "output_type": "stream",
     "text": [
      "1.5.1+cu101 True\n",
      "0.1.0+78b68d5\n"
     ],
     "name": "stdout"
    }
   ]
  },
  {
   "cell_type": "markdown",
   "metadata": {
    "id": "pXf7oV5DWdab",
    "colab_type": "text"
   },
   "source": [
    "## Perform inference with a MMAction2 recognizer\n",
    "MMAction2 already provides high level APIs to do inference and training."
   ]
  },
  {
   "cell_type": "code",
   "metadata": {
    "id": "64CW6d_AaT-Q",
    "colab_type": "code",
    "colab": {
     "base_uri": "https://localhost:8080/",
     "height": 224
    },
    "outputId": "5bdec554-ff27-4c93-975f-b747a93e80bc"
   },
   "source": [
    "!mkdir checkpoints\n",
    "!wget -c https://openmmlab.oss-accelerate.aliyuncs.com/mmaction/recognition/tsn/tsn_r50_1x1x3_100e_kinetics400_rgb/tsn_r50_1x1x3_100e_kinetics400_rgb_20200614-e508be42.pth \\\n",
    "      -O checkpoints/tsn_r50_1x1x3_100e_kinetics400_rgb_20200614-e508be42.pth"
   ],
   "execution_count": 4,
   "outputs": [
    {
     "output_type": "stream",
     "text": [
      "--2020-07-12 07:19:39--  https://openmmlab.oss-accelerate.aliyuncs.com/mmaction/recognition/tsn/tsn_r50_1x1x3_100e_kinetics400_rgb/tsn_r50_1x1x3_100e_kinetics400_rgb_20200614-e508be42.pth\n",
      "Resolving openmmlab.oss-accelerate.aliyuncs.com (openmmlab.oss-accelerate.aliyuncs.com)... 47.254.186.154\n",
      "Connecting to openmmlab.oss-accelerate.aliyuncs.com (openmmlab.oss-accelerate.aliyuncs.com)|47.254.186.154|:443... connected.\n",
      "HTTP request sent, awaiting response... 200 OK\n",
      "Length: 97579339 (93M) [application/octet-stream]\n",
      "Saving to: ‘checkpoints/tsn_r50_1x1x3_100e_kinetics400_rgb_20200614-e508be42.pth’\n",
      "\n",
      "checkpoints/tsn_r50 100%[===================>]  93.06M  11.4MB/s    in 8.1s    \n",
      "\n",
      "2020-07-12 07:19:48 (11.4 MB/s) - ‘checkpoints/tsn_r50_1x1x3_100e_kinetics400_rgb_20200614-e508be42.pth’ saved [97579339/97579339]\n",
      "\n"
     ],
     "name": "stdout"
    }
   ]
  },
  {
   "cell_type": "code",
   "metadata": {
    "id": "HNZB7NoSabzj",
    "colab_type": "code",
    "colab": {}
   },
   "source": [
    "from mmaction.apis import inference_recognizer, init_recognizer\n",
    "\n",
    "# Choose to use a config and initialize the recognizer\n",
    "config = 'configs/recognition/tsn/tsn_r50_video_inference_1x1x3_100e_kinetics400_rgb.py'\n",
    "# Setup a checkpoint file to load\n",
    "checkpoint = 'checkpoints/tsn_r50_1x1x3_100e_kinetics400_rgb_20200614-e508be42.pth'\n",
    "# Initialize the recognizer\n",
    "model = init_recognizer(config, checkpoint, device='cuda:0')"
   ],
   "execution_count": 5,
   "outputs": []
  },
  {
   "cell_type": "code",
   "metadata": {
    "id": "rEMsBnpHapAn",
    "colab_type": "code",
    "colab": {}
   },
   "source": [
    "# Use the recognizer to do inference\n",
    "video = 'demo/demo.mp4'\n",
    "label = 'demo/label_map.txt'\n",
    "results = inference_recognizer(model, video, label)"
   ],
   "execution_count": 6,
   "outputs": []
  },
  {
   "cell_type": "code",
   "metadata": {
    "id": "NIyJXqfWathq",
    "colab_type": "code",
    "colab": {
     "base_uri": "https://localhost:8080/",
     "height": 102
    },
    "outputId": "79971aa6-cee8-425a-a58f-86159779792b"
   },
   "source": [
    "# Let's show the results\n",
    "for result in results:\n",
    "    print(f'{result[0]}: ', result[1])"
   ],
   "execution_count": 7,
   "outputs": [
    {
     "output_type": "stream",
     "text": [
      "arm wrestling:  29.61644\n",
      "rock scissors paper:  10.754843\n",
      "shaking hands:  9.908401\n",
      "clapping:  9.189913\n",
      "massaging feet:  8.305306\n"
     ],
     "name": "stdout"
    }
   ]
  },
  {
   "cell_type": "markdown",
   "metadata": {
    "id": "QuZG8kZ2fJ5d",
    "colab_type": "text"
   },
   "source": [
    "## Train a recognizer on customized dataset\n",
    "\n",
    "To train a new recognizer, there are usually three things to do:\n",
    "1. Support a new dataset\n",
    "2. Modify the config\n",
    "3. Train a new recognizer"
   ]
  },
  {
   "cell_type": "markdown",
   "metadata": {
    "id": "neEFyxChfgiJ",
    "colab_type": "text"
   },
   "source": [
    "### Support a new dataset\n",
    "\n",
    "In this tutorial, we gives an example to convert the data into the format of existing datasets. Other methods and more advanced usages can be found in the [doc](/docs/tutorials/new_dataset.md)\n",
    "\n",
    "Firstly, let's download a tiny dataset obtained from [Kinetics-400](https://deepmind.com/research/open-source/open-source-datasets/kinetics/). We select 30 videos with their labels as train dataset and 10 videos with their labels as test dataset."
   ]
  },
  {
   "cell_type": "code",
   "metadata": {
    "id": "gjsUj9JzgUlJ",
    "colab_type": "code",
    "colab": {
     "base_uri": "https://localhost:8080/",
     "height": 221
    },
    "outputId": "cdf115bc-e8ed-440f-c779-2cf5af565556"
   },
   "source": [
    "# download, decompress the data\n",
    "!rm kinetics400_tiny.zip*\n",
    "!rm -rf kinetics400_tiny\n",
    "!wget https://openmmlab.oss-accelerate.aliyuncs.com/mmaction/kinetics400_tiny.zip\n",
    "!unzip kinetics400_tiny.zip > /dev/null"
   ],
   "execution_count": 8,
   "outputs": [
    {
     "output_type": "stream",
     "text": [
      "rm: cannot remove 'kinetics400_tiny.zip*': No such file or directory\n",
      "--2020-07-12 07:20:41--  https://openmmlab.oss-accelerate.aliyuncs.com/mmaction/kinetics400_tiny.zip\n",
      "Resolving openmmlab.oss-accelerate.aliyuncs.com (openmmlab.oss-accelerate.aliyuncs.com)... 47.254.186.154\n",
      "Connecting to openmmlab.oss-accelerate.aliyuncs.com (openmmlab.oss-accelerate.aliyuncs.com)|47.254.186.154|:443... connected.\n",
      "HTTP request sent, awaiting response... 200 OK\n",
      "Length: 18308682 (17M) [application/zip]\n",
      "Saving to: ‘kinetics400_tiny.zip’\n",
      "\n",
      "kinetics400_tiny.zi 100%[===================>]  17.46M  10.0MB/s    in 1.7s    \n",
      "\n",
      "2020-07-12 07:20:44 (10.0 MB/s) - ‘kinetics400_tiny.zip’ saved [18308682/18308682]\n",
      "\n"
     ],
     "name": "stdout"
    }
   ]
  },
  {
   "cell_type": "code",
   "metadata": {
    "id": "AbZ-o7V6hNw4",
    "colab_type": "code",
    "colab": {
     "base_uri": "https://localhost:8080/",
     "height": 1000
    },
    "outputId": "08d42431-5971-47ca-cd01-91f5313a6dd2"
   },
   "source": [
    "# Check the directory structure of the tiny data\n",
    "\n",
    "# Install tree first\n",
    "!apt-get -q install tree\n",
    "!tree kinetics400_tiny"
   ],
   "execution_count": 9,
   "outputs": [
    {
     "output_type": "stream",
     "text": [
      "Reading package lists...\n",
      "Building dependency tree...\n",
      "Reading state information...\n",
      "The following package was automatically installed and is no longer required:\n",
      "  libnvidia-common-440\n",
      "Use 'apt autoremove' to remove it.\n",
      "The following NEW packages will be installed:\n",
      "  tree\n",
      "0 upgraded, 1 newly installed, 0 to remove and 33 not upgraded.\n",
      "Need to get 40.7 kB of archives.\n",
      "After this operation, 105 kB of additional disk space will be used.\n",
      "Get:1 http://archive.ubuntu.com/ubuntu bionic/universe amd64 tree amd64 1.7.0-5 [40.7 kB]\n",
      "Fetched 40.7 kB in 0s (885 kB/s)\n",
      "Selecting previously unselected package tree.\n",
      "(Reading database ... \r(Reading database ... 5%\r(Reading database ... 10%\r(Reading database ... 15%\r(Reading database ... 20%\r(Reading database ... 25%\r(Reading database ... 30%\r(Reading database ... 35%\r(Reading database ... 40%\r(Reading database ... 45%\r(Reading database ... 50%\r(Reading database ... 55%\r(Reading database ... 60%\r(Reading database ... 65%\r(Reading database ... 70%\r(Reading database ... 75%\r(Reading database ... 80%\r(Reading database ... 85%\r(Reading database ... 90%\r(Reading database ... 95%\r(Reading database ... 100%\r(Reading database ... 144379 files and directories currently installed.)\n",
      "Preparing to unpack .../tree_1.7.0-5_amd64.deb ...\n",
      "Unpacking tree (1.7.0-5) ...\n",
      "Setting up tree (1.7.0-5) ...\n",
      "Processing triggers for man-db (2.8.3-2ubuntu0.1) ...\n",
      "kinetics400_tiny\n",
      "├── kinetics_tiny_train_video.txt\n",
      "├── kinetics_tiny_val_video.txt\n",
      "├── train\n",
      "│   ├── 27_CSXByd3s.mp4\n",
      "│   ├── 34XczvTaRiI.mp4\n",
      "│   ├── A-wiliK50Zw.mp4\n",
      "│   ├── D32_1gwq35E.mp4\n",
      "│   ├── D92m0HsHjcQ.mp4\n",
      "│   ├── DbX8mPslRXg.mp4\n",
      "│   ├── FMlSTTpN3VY.mp4\n",
      "│   ├── h10B9SVE-nk.mp4\n",
      "│   ├── h2YqqUhnR34.mp4\n",
      "│   ├── iRuyZSKhHRg.mp4\n",
      "│   ├── IyfILH9lBRo.mp4\n",
      "│   ├── kFC3KY2bOP8.mp4\n",
      "│   ├── LvcFDgCAXQs.mp4\n",
      "│   ├── O46YA8tI530.mp4\n",
      "│   ├── oMrZaozOvdQ.mp4\n",
      "│   ├── oXy-e_P_cAI.mp4\n",
      "│   ├── P5M-hAts7MQ.mp4\n",
      "│   ├── phDqGd0NKoo.mp4\n",
      "│   ├── PnOe3GZRVX8.mp4\n",
      "│   ├── R8HXQkdgKWA.mp4\n",
      "│   ├── RqnKtCEoEcA.mp4\n",
      "│   ├── soEcZZsBmDs.mp4\n",
      "│   ├── TkkZPZHbAKA.mp4\n",
      "│   ├── T_TMNGzVrDk.mp4\n",
      "│   ├── WaS0qwP46Us.mp4\n",
      "│   ├── Wh_YPQdH1Zg.mp4\n",
      "│   ├── WWP5HZJsg-o.mp4\n",
      "│   ├── xGY2dP0YUjA.mp4\n",
      "│   ├── yLC9CtWU5ws.mp4\n",
      "│   └── ZQV4U2KQ370.mp4\n",
      "└── val\n",
      "    ├── 0pVGiAU6XEA.mp4\n",
      "    ├── AQrbRSnRt8M.mp4\n",
      "    ├── b6Q_b7vgc7Q.mp4\n",
      "    ├── ddvJ6-faICE.mp4\n",
      "    ├── IcLztCtvhb8.mp4\n",
      "    ├── ik4BW3-SCts.mp4\n",
      "    ├── jqRrH30V0k4.mp4\n",
      "    ├── SU_x2LQqSLs.mp4\n",
      "    ├── u4Rm6srmIS8.mp4\n",
      "    └── y5Iu7XkTqV0.mp4\n",
      "\n",
      "2 directories, 42 files\n"
     ],
     "name": "stdout"
    }
   ]
  },
  {
   "cell_type": "code",
   "metadata": {
    "id": "fTdi6dI0hY3g",
    "colab_type": "code",
    "colab": {
     "base_uri": "https://localhost:8080/",
     "height": 527
    },
    "outputId": "6c26f345-2530-4d69-f0e4-075337888b18"
   },
   "source": [
    "# After downloading the data, we need to check the annotation format\n",
    "!cat kinetics400_tiny/kinetics_tiny_train_video.txt"
   ],
   "execution_count": 10,
   "outputs": [
    {
     "output_type": "stream",
     "text": [
      "D32_1gwq35E.mp4 0\n",
      "iRuyZSKhHRg.mp4 1\n",
      "oXy-e_P_cAI.mp4 0\n",
      "34XczvTaRiI.mp4 1\n",
      "h2YqqUhnR34.mp4 0\n",
      "O46YA8tI530.mp4 0\n",
      "kFC3KY2bOP8.mp4 1\n",
      "WWP5HZJsg-o.mp4 1\n",
      "phDqGd0NKoo.mp4 1\n",
      "yLC9CtWU5ws.mp4 0\n",
      "27_CSXByd3s.mp4 1\n",
      "IyfILH9lBRo.mp4 1\n",
      "T_TMNGzVrDk.mp4 1\n",
      "TkkZPZHbAKA.mp4 0\n",
      "PnOe3GZRVX8.mp4 1\n",
      "soEcZZsBmDs.mp4 1\n",
      "FMlSTTpN3VY.mp4 1\n",
      "WaS0qwP46Us.mp4 0\n",
      "A-wiliK50Zw.mp4 1\n",
      "oMrZaozOvdQ.mp4 1\n",
      "ZQV4U2KQ370.mp4 0\n",
      "DbX8mPslRXg.mp4 1\n",
      "h10B9SVE-nk.mp4 1\n",
      "P5M-hAts7MQ.mp4 0\n",
      "R8HXQkdgKWA.mp4 0\n",
      "D92m0HsHjcQ.mp4 0\n",
      "RqnKtCEoEcA.mp4 0\n",
      "LvcFDgCAXQs.mp4 0\n",
      "xGY2dP0YUjA.mp4 0\n",
      "Wh_YPQdH1Zg.mp4 0\n"
     ],
     "name": "stdout"
    }
   ]
  },
  {
   "cell_type": "markdown",
   "metadata": {
    "id": "0bq0mxmEi29H",
    "colab_type": "text"
   },
   "source": [
    "According to the format defined in [`VideoDataset`](./datasets/video_dataset.py), each line indicates a sample video with the filepath and label, which are split with a whitespace."
   ]
  },
  {
   "cell_type": "markdown",
   "metadata": {
    "id": "Ht_DGJA9jQar",
    "colab_type": "text"
   },
   "source": [
    "### Modify the config\n",
    "\n",
    "In the next step, we need to modify the config for the training.\n",
    "To accelerate the process, we finetune a recognizer using a pre-trained recognizer."
   ]
  },
  {
   "cell_type": "code",
   "metadata": {
    "id": "LjCcmCKOjktc",
    "colab_type": "code",
    "colab": {}
   },
   "source": [
    "from mmcv import Config\n",
    "cfg = Config.fromfile('./configs/recognition/tsn/tsn_r50_video_1x1x8_100e_kinetics400_rgb.py')"
   ],
   "execution_count": 11,
   "outputs": []
  },
  {
   "cell_type": "markdown",
   "metadata": {
    "id": "tc8YhFFGjp3e",
    "colab_type": "text"
   },
   "source": [
    "Given a config that trains a TSN model on kinetics400-full dataset, we need to modify some values to use it for training TSN on Kinetics400-tiny dataset.\n"
   ]
  },
  {
   "cell_type": "code",
   "metadata": {
    "id": "tlhu9byjjt-K",
    "colab_type": "code",
    "colab": {}
   },
   "source": [
    "from mmcv.runner import set_random_seed\n",
    "\n",
    "# Modify dataset type and path\n",
    "cfg.dataset_type = 'VideoDataset'\n",
    "cfg.data_root = 'kinetics400_tiny/train/'\n",
    "cfg.data_root_val = 'kinetics400_tiny/val/'\n",
    "cfg.ann_file_train = 'kinetics400_tiny/kinetics_tiny_train_video.txt'\n",
    "cfg.ann_file_val = 'kinetics400_tiny/kinetics_tiny_val_video.txt'\n",
    "cfg.ann_file_test = 'kinetics400_tiny/kinetics_tiny_val_video.txt'\n",
    "\n",
    "cfg.data.test.type = 'VideoDataset'\n",
    "cfg.data.test.ann_file = 'kinetics400_tiny/kinetics_tiny_val_video.txt'\n",
    "cfg.data.test.data_prefix = 'kinetics400_tiny/val/'\n",
    "\n",
    "cfg.data.train.type = 'VideoDataset'\n",
    "cfg.data.train.ann_file = 'kinetics400_tiny/kinetics_tiny_train_video.txt'\n",
    "cfg.data.train.data_prefix = 'kinetics400_tiny/train/'\n",
    "\n",
    "cfg.data.val.type = 'VideoDataset'\n",
    "cfg.data.val.ann_file = 'kinetics400_tiny/kinetics_tiny_val_video.txt'\n",
    "cfg.data.val.data_prefix = 'kinetics400_tiny/val/'\n",
    "\n",
    "# Modify num classes of the model in cls_head\n",
    "cfg.model.cls_head.num_classes = 2\n",
    "# We can use the pre-trained TSN model\n",
    "cfg.load_from = './checkpoints/tsn_r50_1x1x3_100e_kinetics400_rgb_20200614-e508be42.pth'\n",
    "\n",
    "# Set up working dir to save files and logs.\n",
    "cfg.work_dir = './tutorial_exps'\n",
    "\n",
    "# The original learning rate (LR) is set for 8-GPU training.\n",
    "# We divide it by 8 since we only use one GPU.\n",
    "cfg.data.videos_per_gpu = cfg.data.videos_per_gpu // 16\n",
    "cfg.optimizer.lr = cfg.optimizer.lr / 8 / 16\n",
    "cfg.total_epochs = 30\n",
    "\n",
    "# We can set the checkpoint saving interval to reduce the storage cost\n",
    "cfg.checkpoint_config.interval = 10\n",
    "# We can set the log print interval to reduce the the times of printing log\n",
    "cfg.log_config.interval = 5\n",
    "\n",
    "# Set seed thus the results are more reproducible\n",
    "cfg.seed = 0\n",
    "set_random_seed(0, deterministic=False)\n",
    "cfg.gpu_ids = range(1)"
   ],
   "execution_count": 12,
   "outputs": []
  },
  {
   "cell_type": "markdown",
   "metadata": {
    "id": "tES-qnZ3k38Z",
    "colab_type": "text"
   },
   "source": [
    "### Train a new recognizer\n",
    "\n",
    "Finally, lets initialize the dataset and recognizer, then train a new recognizer!"
   ]
  },
  {
   "cell_type": "code",
   "metadata": {
    "id": "dDBWkdDRk6oz",
    "colab_type": "code",
    "colab": {
     "base_uri": "https://localhost:8080/",
     "height": 1000,
     "referenced_widgets": [
      "21a4bef0124d48fd850fc768766da9b5",
      "810d89282d9d4c939ab4d3cb904c3954",
      "ca6d1ea713f04397ad424fed870e71b2",
      "ca1b92209d9a4109b0d80330005762cf",
      "5c9a171c5b6249e994147896ee1512e7",
      "92c0bea08845438299ab62d4ec7b8c42",
      "9f323e47627a4bdebbf33ae24349b62d",
      "3ded7bdc0e2c4ad890b8a1d9261649c9"
     ]
    },
    "outputId": "d02f1f5d-28bf-4818-f4b2-f16e72c6a9dd"
   },
   "source": [
    "import os.path as osp\n",
    "\n",
    "from mmaction.datasets import build_dataset\n",
    "from mmaction.models import build_model\n",
    "from mmaction.apis import train_model\n",
    "\n",
    "import mmcv\n",
    "\n",
    "# Build the dataset\n",
    "datasets = [build_dataset(cfg.data.train)]\n",
    "\n",
    "# Build the recognizer\n",
    "model = build_model(cfg.model, train_cfg=cfg.train_cfg, test_cfg=cfg.test_cfg)\n",
    "\n",
    "# Create work_dir\n",
    "mmcv.mkdir_or_exist(osp.abspath(cfg.work_dir))\n",
    "train_model(model, datasets, cfg, distributed=False, validate=True)"
   ],
   "execution_count": 13,
   "outputs": [
    {
     "output_type": "stream",
     "text": [
      "Downloading: \"https://download.pytorch.org/models/resnet50-19c8e357.pth\" to /root/.cache/torch/checkpoints/resnet50-19c8e357.pth\n"
     ],
     "name": "stderr"
    },
    {
     "output_type": "display_data",
     "data": {
      "application/vnd.jupyter.widget-view+json": {
       "model_id": "21a4bef0124d48fd850fc768766da9b5",
       "version_minor": 0,
       "version_major": 2
      },
      "text/plain": [
       "HBox(children=(FloatProgress(value=0.0, max=102502400.0), HTML(value='')))"
      ]
     },
     "metadata": {
      "tags": []
     }
    },
    {
     "output_type": "stream",
     "text": [
      "\n"
     ],
     "name": "stdout"
    },
    {
     "output_type": "stream",
     "text": [
      "2020-07-12 07:22:02,424 - mmaction - INFO - These parameters in pretrained checkpoint are not loaded: {'fc.weight', 'fc.bias'}\n",
      "2020-07-12 07:22:02,475 - mmaction - INFO - load checkpoint from ./checkpoints/tsn_r50_1x1x3_100e_kinetics400_rgb_20200614-e508be42.pth\n",
      "2020-07-12 07:22:02,574 - mmaction - WARNING - The model and loaded state dict do not match exactly\n",
      "\n",
      "size mismatch for cls_head.fc_cls.weight: copying a param with shape torch.Size([400, 2048]) from checkpoint, the shape in current model is torch.Size([2, 2048]).\n",
      "size mismatch for cls_head.fc_cls.bias: copying a param with shape torch.Size([400]) from checkpoint, the shape in current model is torch.Size([2]).\n",
      "2020-07-12 07:22:02,577 - mmaction - INFO - Start running, host: root@afa84c02dc7f, work_dir: /content/mmaction2/tutorial_exps\n",
      "2020-07-12 07:22:02,578 - mmaction - INFO - workflow: [('train', 1)], max: 30 epochs\n",
      "2020-07-12 07:22:08,047 - mmaction - INFO - Epoch [1][5/15]\tlr: 7.813e-05, eta: 0:08:06, time: 1.093, data_time: 0.646, memory: 2918, top1_acc: 0.7000, top5_acc: 1.0000, loss_cls: 0.6865, loss: 0.6865, grad_norm: 12.7663\n",
      "2020-07-12 07:22:10,132 - mmaction - INFO - Epoch [1][10/15]\tlr: 7.813e-05, eta: 0:05:32, time: 0.417, data_time: 0.003, memory: 2918, top1_acc: 0.6000, top5_acc: 1.0000, loss_cls: 0.7171, loss: 0.7171, grad_norm: 13.7445\n",
      "2020-07-12 07:22:12,078 - mmaction - INFO - Epoch [1][15/15]\tlr: 7.813e-05, eta: 0:04:35, time: 0.389, data_time: 0.001, memory: 2918, top1_acc: 0.2000, top5_acc: 1.0000, loss_cls: 0.8884, loss: 0.8884, grad_norm: 14.7140\n",
      "2020-07-12 07:22:17,540 - mmaction - INFO - Epoch [2][5/15]\tlr: 7.813e-05, eta: 0:05:19, time: 1.078, data_time: 0.618, memory: 2918, top1_acc: 0.8000, top5_acc: 1.0000, loss_cls: 0.6562, loss: 0.6562, grad_norm: 10.5716\n",
      "2020-07-12 07:22:19,645 - mmaction - INFO - Epoch [2][10/15]\tlr: 7.813e-05, eta: 0:04:48, time: 0.421, data_time: 0.003, memory: 2918, top1_acc: 0.2000, top5_acc: 1.0000, loss_cls: 0.7480, loss: 0.7480, grad_norm: 11.7081\n",
      "2020-07-12 07:22:21,594 - mmaction - INFO - Epoch [2][15/15]\tlr: 7.813e-05, eta: 0:04:25, time: 0.390, data_time: 0.001, memory: 2918, top1_acc: 0.6000, top5_acc: 1.0000, loss_cls: 0.6735, loss: 0.6735, grad_norm: 12.8048\n",
      "2020-07-12 07:22:26,948 - mmaction - INFO - Epoch [3][5/15]\tlr: 7.813e-05, eta: 0:04:47, time: 1.057, data_time: 0.623, memory: 2918, top1_acc: 0.4000, top5_acc: 1.0000, loss_cls: 0.7218, loss: 0.7218, grad_norm: 12.4895\n",
      "2020-07-12 07:22:29,026 - mmaction - INFO - Epoch [3][10/15]\tlr: 7.813e-05, eta: 0:04:29, time: 0.415, data_time: 0.006, memory: 2918, top1_acc: 0.8000, top5_acc: 1.0000, loss_cls: 0.6188, loss: 0.6188, grad_norm: 11.8097\n",
      "2020-07-12 07:22:30,972 - mmaction - INFO - Epoch [3][15/15]\tlr: 7.813e-05, eta: 0:04:14, time: 0.389, data_time: 0.001, memory: 2918, top1_acc: 0.4000, top5_acc: 1.0000, loss_cls: 0.7298, loss: 0.7298, grad_norm: 12.5042\n",
      "2020-07-12 07:22:36,572 - mmaction - INFO - Epoch [4][5/15]\tlr: 7.813e-05, eta: 0:04:30, time: 1.102, data_time: 0.664, memory: 2918, top1_acc: 0.5000, top5_acc: 1.0000, loss_cls: 0.6833, loss: 0.6833, grad_norm: 10.1046\n",
      "2020-07-12 07:22:38,648 - mmaction - INFO - Epoch [4][10/15]\tlr: 7.813e-05, eta: 0:04:17, time: 0.417, data_time: 0.005, memory: 2918, top1_acc: 0.7000, top5_acc: 1.0000, loss_cls: 0.6640, loss: 0.6640, grad_norm: 11.7571\n",
      "2020-07-12 07:22:40,600 - mmaction - INFO - Epoch [4][15/15]\tlr: 7.813e-05, eta: 0:04:05, time: 0.390, data_time: 0.001, memory: 2918, top1_acc: 0.4000, top5_acc: 1.0000, loss_cls: 0.7372, loss: 0.7372, grad_norm: 13.6114\n",
      "2020-07-12 07:22:46,076 - mmaction - INFO - Epoch [5][5/15]\tlr: 7.813e-05, eta: 0:04:15, time: 1.081, data_time: 0.639, memory: 2918, top1_acc: 0.8000, top5_acc: 1.0000, loss_cls: 0.6309, loss: 0.6309, grad_norm: 11.1870\n",
      "2020-07-12 07:22:48,178 - mmaction - INFO - Epoch [5][10/15]\tlr: 7.813e-05, eta: 0:04:05, time: 0.420, data_time: 0.005, memory: 2918, top1_acc: 0.4000, top5_acc: 1.0000, loss_cls: 0.7178, loss: 0.7178, grad_norm: 12.4663\n",
      "2020-07-12 07:22:50,125 - mmaction - INFO - Epoch [5][15/15]\tlr: 7.813e-05, eta: 0:03:56, time: 0.389, data_time: 0.001, memory: 2918, top1_acc: 0.4000, top5_acc: 1.0000, loss_cls: 0.7094, loss: 0.7094, grad_norm: 12.4666\n"
     ],
     "name": "stderr"
    },
    {
     "output_type": "stream",
     "text": [
      "[>>>>>>>>>>>>>>>>>>>>>>>>>>>>>>>>>] 10/10, 4.5 task/s, elapsed: 2s, ETA:     0s"
     ],
     "name": "stdout"
    },
    {
     "output_type": "stream",
     "text": [
      "2020-07-12 07:22:52,503 - mmaction - INFO - Evaluating top_k_accuracy...\n",
      "2020-07-12 07:22:52,505 - mmaction - INFO - \n",
      "top1_acc\t0.7000\n",
      "top5_acc\t1.0000\n",
      "2020-07-12 07:22:52,505 - mmaction - INFO - Evaluating mean_class_accuracy...\n",
      "2020-07-12 07:22:52,511 - mmaction - INFO - \n",
      "mean_acc\t0.7000\n",
      "2020-07-12 07:22:52,514 - mmaction - INFO - Now best checkpoint is epoch_5.pth\n",
      "2020-07-12 07:22:52,516 - mmaction - INFO - Epoch [5][15/15]\tlr: 7.813e-05, top1_acc: 0.7000, top5_acc: 1.0000, mean_class_accuracy: 0.7000\n",
      "2020-07-12 07:22:58,357 - mmaction - INFO - Epoch [6][5/15]\tlr: 7.813e-05, eta: 0:04:05, time: 1.167, data_time: 0.744, memory: 2918, top1_acc: 0.5000, top5_acc: 1.0000, loss_cls: 0.6696, loss: 0.6696, grad_norm: 11.0187\n",
      "2020-07-12 07:23:00,370 - mmaction - INFO - Epoch [6][10/15]\tlr: 7.813e-05, eta: 0:03:56, time: 0.402, data_time: 0.002, memory: 2918, top1_acc: 0.6000, top5_acc: 1.0000, loss_cls: 0.6824, loss: 0.6824, grad_norm: 11.8885\n",
      "2020-07-12 07:23:02,313 - mmaction - INFO - Epoch [6][15/15]\tlr: 7.813e-05, eta: 0:03:48, time: 0.389, data_time: 0.001, memory: 2918, top1_acc: 0.6000, top5_acc: 1.0000, loss_cls: 0.6870, loss: 0.6870, grad_norm: 13.7296\n",
      "2020-07-12 07:23:07,529 - mmaction - INFO - Epoch [7][5/15]\tlr: 7.813e-05, eta: 0:03:52, time: 1.030, data_time: 0.572, memory: 2918, top1_acc: 0.7000, top5_acc: 1.0000, loss_cls: 0.6459, loss: 0.6459, grad_norm: 10.8104\n",
      "2020-07-12 07:23:09,734 - mmaction - INFO - Epoch [7][10/15]\tlr: 7.813e-05, eta: 0:03:45, time: 0.441, data_time: 0.007, memory: 2918, top1_acc: 0.9000, top5_acc: 1.0000, loss_cls: 0.6004, loss: 0.6004, grad_norm: 9.5424\n",
      "2020-07-12 07:23:11,666 - mmaction - INFO - Epoch [7][15/15]\tlr: 7.813e-05, eta: 0:03:37, time: 0.386, data_time: 0.001, memory: 2918, top1_acc: 0.6000, top5_acc: 1.0000, loss_cls: 0.6828, loss: 0.6828, grad_norm: 12.0922\n",
      "2020-07-12 07:23:17,349 - mmaction - INFO - Epoch [8][5/15]\tlr: 7.813e-05, eta: 0:03:42, time: 1.122, data_time: 0.680, memory: 2918, top1_acc: 0.5000, top5_acc: 1.0000, loss_cls: 0.6921, loss: 0.6921, grad_norm: 13.1964\n",
      "2020-07-12 07:23:19,366 - mmaction - INFO - Epoch [8][10/15]\tlr: 7.813e-05, eta: 0:03:35, time: 0.403, data_time: 0.003, memory: 2918, top1_acc: 0.7000, top5_acc: 1.0000, loss_cls: 0.6072, loss: 0.6072, grad_norm: 11.3313\n",
      "2020-07-12 07:23:21,310 - mmaction - INFO - Epoch [8][15/15]\tlr: 7.813e-05, eta: 0:03:28, time: 0.389, data_time: 0.001, memory: 2918, top1_acc: 0.4000, top5_acc: 1.0000, loss_cls: 0.7029, loss: 0.7029, grad_norm: 12.4481\n",
      "2020-07-12 07:23:26,888 - mmaction - INFO - Epoch [9][5/15]\tlr: 7.813e-05, eta: 0:03:31, time: 1.099, data_time: 0.664, memory: 2918, top1_acc: 0.9000, top5_acc: 1.0000, loss_cls: 0.5367, loss: 0.5367, grad_norm: 8.3956\n",
      "2020-07-12 07:23:28,951 - mmaction - INFO - Epoch [9][10/15]\tlr: 7.813e-05, eta: 0:03:25, time: 0.414, data_time: 0.006, memory: 2918, top1_acc: 0.6000, top5_acc: 1.0000, loss_cls: 0.6797, loss: 0.6797, grad_norm: 12.8038\n",
      "2020-07-12 07:23:30,897 - mmaction - INFO - Epoch [9][15/15]\tlr: 7.813e-05, eta: 0:03:19, time: 0.389, data_time: 0.001, memory: 2918, top1_acc: 0.8000, top5_acc: 1.0000, loss_cls: 0.5711, loss: 0.5711, grad_norm: 9.9666\n",
      "2020-07-12 07:23:36,397 - mmaction - INFO - Epoch [10][5/15]\tlr: 7.813e-05, eta: 0:03:21, time: 1.083, data_time: 0.648, memory: 2918, top1_acc: 0.8000, top5_acc: 1.0000, loss_cls: 0.5379, loss: 0.5379, grad_norm: 8.8875\n",
      "2020-07-12 07:23:38,467 - mmaction - INFO - Epoch [10][10/15]\tlr: 7.813e-05, eta: 0:03:15, time: 0.414, data_time: 0.002, memory: 2918, top1_acc: 0.4000, top5_acc: 1.0000, loss_cls: 0.6644, loss: 0.6644, grad_norm: 12.6175\n",
      "2020-07-12 07:23:40,408 - mmaction - INFO - Epoch [10][15/15]\tlr: 7.813e-05, eta: 0:03:09, time: 0.388, data_time: 0.001, memory: 2918, top1_acc: 0.6000, top5_acc: 1.0000, loss_cls: 0.7042, loss: 0.7042, grad_norm: 12.4940\n",
      "2020-07-12 07:23:40,479 - mmaction - INFO - Saving checkpoint at 10 epochs\n"
     ],
     "name": "stderr"
    },
    {
     "output_type": "stream",
     "text": [
      "[>>>>>>>>>>>>>>>>>>>>>>>>>>>>>>>>>] 10/10, 4.5 task/s, elapsed: 2s, ETA:     0s"
     ],
     "name": "stdout"
    },
    {
     "output_type": "stream",
     "text": [
      "2020-07-12 07:23:43,102 - mmaction - INFO - Evaluating top_k_accuracy...\n",
      "2020-07-12 07:23:43,104 - mmaction - INFO - \n",
      "top1_acc\t0.9000\n",
      "top5_acc\t1.0000\n",
      "2020-07-12 07:23:43,107 - mmaction - INFO - Evaluating mean_class_accuracy...\n",
      "2020-07-12 07:23:43,109 - mmaction - INFO - \n",
      "mean_acc\t0.9000\n",
      "2020-07-12 07:23:43,111 - mmaction - INFO - Now best checkpoint is epoch_10.pth\n",
      "2020-07-12 07:23:43,114 - mmaction - INFO - Epoch [10][15/15]\tlr: 7.813e-05, top1_acc: 0.9000, top5_acc: 1.0000, mean_class_accuracy: 0.9000\n",
      "2020-07-12 07:23:48,636 - mmaction - INFO - Epoch [11][5/15]\tlr: 7.813e-05, eta: 0:03:10, time: 1.101, data_time: 0.680, memory: 2918, top1_acc: 0.8000, top5_acc: 1.0000, loss_cls: 0.5358, loss: 0.5358, grad_norm: 8.8066\n",
      "2020-07-12 07:23:50,679 - mmaction - INFO - Epoch [11][10/15]\tlr: 7.813e-05, eta: 0:03:05, time: 0.410, data_time: 0.003, memory: 2918, top1_acc: 0.8000, top5_acc: 1.0000, loss_cls: 0.5829, loss: 0.5829, grad_norm: 10.5911\n",
      "2020-07-12 07:23:52,621 - mmaction - INFO - Epoch [11][15/15]\tlr: 7.813e-05, eta: 0:03:00, time: 0.388, data_time: 0.001, memory: 2918, top1_acc: 0.7000, top5_acc: 1.0000, loss_cls: 0.6231, loss: 0.6231, grad_norm: 11.3667\n",
      "2020-07-12 07:23:57,889 - mmaction - INFO - Epoch [12][5/15]\tlr: 7.813e-05, eta: 0:03:00, time: 1.041, data_time: 0.603, memory: 2918, top1_acc: 0.7000, top5_acc: 1.0000, loss_cls: 0.5701, loss: 0.5701, grad_norm: 10.0651\n",
      "2020-07-12 07:23:59,974 - mmaction - INFO - Epoch [12][10/15]\tlr: 7.813e-05, eta: 0:02:55, time: 0.417, data_time: 0.003, memory: 2918, top1_acc: 0.6000, top5_acc: 1.0000, loss_cls: 0.5981, loss: 0.5981, grad_norm: 11.1711\n",
      "2020-07-12 07:24:01,922 - mmaction - INFO - Epoch [12][15/15]\tlr: 7.813e-05, eta: 0:02:50, time: 0.389, data_time: 0.001, memory: 2918, top1_acc: 0.5000, top5_acc: 1.0000, loss_cls: 0.6105, loss: 0.6105, grad_norm: 11.8522\n",
      "2020-07-12 07:24:07,246 - mmaction - INFO - Epoch [13][5/15]\tlr: 7.813e-05, eta: 0:02:50, time: 1.051, data_time: 0.611, memory: 2918, top1_acc: 0.7000, top5_acc: 1.0000, loss_cls: 0.5438, loss: 0.5438, grad_norm: 10.4104\n",
      "2020-07-12 07:24:09,334 - mmaction - INFO - Epoch [13][10/15]\tlr: 7.813e-05, eta: 0:02:45, time: 0.417, data_time: 0.005, memory: 2918, top1_acc: 0.6000, top5_acc: 1.0000, loss_cls: 0.6338, loss: 0.6338, grad_norm: 11.3876\n",
      "2020-07-12 07:24:11,282 - mmaction - INFO - Epoch [13][15/15]\tlr: 7.813e-05, eta: 0:02:40, time: 0.390, data_time: 0.001, memory: 2918, top1_acc: 0.7000, top5_acc: 1.0000, loss_cls: 0.6327, loss: 0.6327, grad_norm: 12.0643\n",
      "2020-07-12 07:24:16,992 - mmaction - INFO - Epoch [14][5/15]\tlr: 7.813e-05, eta: 0:02:40, time: 1.128, data_time: 0.717, memory: 2918, top1_acc: 0.6000, top5_acc: 1.0000, loss_cls: 0.6514, loss: 0.6514, grad_norm: 12.4958\n",
      "2020-07-12 07:24:19,012 - mmaction - INFO - Epoch [14][10/15]\tlr: 7.813e-05, eta: 0:02:35, time: 0.404, data_time: 0.003, memory: 2918, top1_acc: 0.8000, top5_acc: 1.0000, loss_cls: 0.5537, loss: 0.5537, grad_norm: 10.5980\n",
      "2020-07-12 07:24:20,962 - mmaction - INFO - Epoch [14][15/15]\tlr: 7.813e-05, eta: 0:02:31, time: 0.390, data_time: 0.001, memory: 2918, top1_acc: 0.4000, top5_acc: 1.0000, loss_cls: 0.7072, loss: 0.7072, grad_norm: 12.8175\n",
      "2020-07-12 07:24:26,747 - mmaction - INFO - Epoch [15][5/15]\tlr: 7.813e-05, eta: 0:02:31, time: 1.142, data_time: 0.722, memory: 2918, top1_acc: 0.7000, top5_acc: 1.0000, loss_cls: 0.6580, loss: 0.6580, grad_norm: 12.7101\n",
      "2020-07-12 07:24:28,784 - mmaction - INFO - Epoch [15][10/15]\tlr: 7.813e-05, eta: 0:02:26, time: 0.408, data_time: 0.007, memory: 2918, top1_acc: 0.9000, top5_acc: 1.0000, loss_cls: 0.4524, loss: 0.4524, grad_norm: 8.1150\n",
      "2020-07-12 07:24:30,720 - mmaction - INFO - Epoch [15][15/15]\tlr: 7.813e-05, eta: 0:02:22, time: 0.387, data_time: 0.001, memory: 2918, top1_acc: 0.7000, top5_acc: 1.0000, loss_cls: 0.6319, loss: 0.6319, grad_norm: 11.7260\n"
     ],
     "name": "stderr"
    },
    {
     "output_type": "stream",
     "text": [
      "[>>>>>>>>>>>>>>>>>>>>>>>>>>>>>>>>>] 10/10, 4.6 task/s, elapsed: 2s, ETA:     0s"
     ],
     "name": "stdout"
    },
    {
     "output_type": "stream",
     "text": [
      "2020-07-12 07:24:33,047 - mmaction - INFO - Evaluating top_k_accuracy...\n",
      "2020-07-12 07:24:33,048 - mmaction - INFO - \n",
      "top1_acc\t0.8000\n",
      "top5_acc\t1.0000\n",
      "2020-07-12 07:24:33,052 - mmaction - INFO - Evaluating mean_class_accuracy...\n",
      "2020-07-12 07:24:33,055 - mmaction - INFO - \n",
      "mean_acc\t0.8000\n",
      "2020-07-12 07:24:33,057 - mmaction - INFO - Epoch [15][15/15]\tlr: 7.813e-05, top1_acc: 0.8000, top5_acc: 1.0000, mean_class_accuracy: 0.8000\n",
      "2020-07-12 07:24:38,304 - mmaction - INFO - Epoch [16][5/15]\tlr: 7.813e-05, eta: 0:02:20, time: 1.048, data_time: 0.624, memory: 2918, top1_acc: 0.8000, top5_acc: 1.0000, loss_cls: 0.5428, loss: 0.5428, grad_norm: 10.0137\n",
      "2020-07-12 07:24:40,394 - mmaction - INFO - Epoch [16][10/15]\tlr: 7.813e-05, eta: 0:02:16, time: 0.418, data_time: 0.006, memory: 2918, top1_acc: 0.7000, top5_acc: 1.0000, loss_cls: 0.6098, loss: 0.6098, grad_norm: 11.1523\n",
      "2020-07-12 07:24:42,334 - mmaction - INFO - Epoch [16][15/15]\tlr: 7.813e-05, eta: 0:02:12, time: 0.388, data_time: 0.001, memory: 2918, top1_acc: 0.7000, top5_acc: 1.0000, loss_cls: 0.5309, loss: 0.5309, grad_norm: 9.9061\n",
      "2020-07-12 07:24:47,758 - mmaction - INFO - Epoch [17][5/15]\tlr: 7.813e-05, eta: 0:02:11, time: 1.071, data_time: 0.621, memory: 2918, top1_acc: 0.6000, top5_acc: 1.0000, loss_cls: 0.6303, loss: 0.6303, grad_norm: 12.2627\n",
      "2020-07-12 07:24:49,808 - mmaction - INFO - Epoch [17][10/15]\tlr: 7.813e-05, eta: 0:02:07, time: 0.410, data_time: 0.004, memory: 2918, top1_acc: 0.4000, top5_acc: 1.0000, loss_cls: 0.6635, loss: 0.6635, grad_norm: 13.0192\n",
      "2020-07-12 07:24:51,740 - mmaction - INFO - Epoch [17][15/15]\tlr: 7.813e-05, eta: 0:02:02, time: 0.386, data_time: 0.001, memory: 2918, top1_acc: 1.0000, top5_acc: 1.0000, loss_cls: 0.4261, loss: 0.4261, grad_norm: 8.0277\n",
      "2020-07-12 07:24:57,155 - mmaction - INFO - Epoch [18][5/15]\tlr: 7.813e-05, eta: 0:02:01, time: 1.068, data_time: 0.640, memory: 2918, top1_acc: 0.8000, top5_acc: 1.0000, loss_cls: 0.5793, loss: 0.5793, grad_norm: 11.0257\n",
      "2020-07-12 07:24:59,220 - mmaction - INFO - Epoch [18][10/15]\tlr: 7.813e-05, eta: 0:01:57, time: 0.413, data_time: 0.006, memory: 2918, top1_acc: 0.9000, top5_acc: 1.0000, loss_cls: 0.4537, loss: 0.4537, grad_norm: 8.3296\n",
      "2020-07-12 07:25:01,158 - mmaction - INFO - Epoch [18][15/15]\tlr: 7.813e-05, eta: 0:01:53, time: 0.388, data_time: 0.001, memory: 2918, top1_acc: 0.8000, top5_acc: 1.0000, loss_cls: 0.4951, loss: 0.4951, grad_norm: 9.5778\n",
      "2020-07-12 07:25:06,934 - mmaction - INFO - Epoch [19][5/15]\tlr: 7.813e-05, eta: 0:01:51, time: 1.141, data_time: 0.707, memory: 2918, top1_acc: 0.9000, top5_acc: 1.0000, loss_cls: 0.5533, loss: 0.5533, grad_norm: 10.2710\n",
      "2020-07-12 07:25:08,950 - mmaction - INFO - Epoch [19][10/15]\tlr: 7.813e-05, eta: 0:01:47, time: 0.403, data_time: 0.001, memory: 2918, top1_acc: 0.6000, top5_acc: 1.0000, loss_cls: 0.6116, loss: 0.6116, grad_norm: 11.5422\n",
      "2020-07-12 07:25:10,898 - mmaction - INFO - Epoch [19][15/15]\tlr: 7.813e-05, eta: 0:01:44, time: 0.390, data_time: 0.001, memory: 2918, top1_acc: 0.8000, top5_acc: 1.0000, loss_cls: 0.4128, loss: 0.4128, grad_norm: 7.5728\n",
      "2020-07-12 07:25:16,197 - mmaction - INFO - Epoch [20][5/15]\tlr: 7.813e-05, eta: 0:01:42, time: 1.045, data_time: 0.601, memory: 2918, top1_acc: 0.9000, top5_acc: 1.0000, loss_cls: 0.4326, loss: 0.4326, grad_norm: 8.4829\n",
      "2020-07-12 07:25:18,307 - mmaction - INFO - Epoch [20][10/15]\tlr: 7.813e-05, eta: 0:01:38, time: 0.422, data_time: 0.005, memory: 2918, top1_acc: 0.8000, top5_acc: 1.0000, loss_cls: 0.4621, loss: 0.4621, grad_norm: 8.9798\n",
      "2020-07-12 07:25:20,257 - mmaction - INFO - Epoch [20][15/15]\tlr: 7.813e-05, eta: 0:01:34, time: 0.390, data_time: 0.001, memory: 2918, top1_acc: 0.7000, top5_acc: 1.0000, loss_cls: 0.5917, loss: 0.5917, grad_norm: 11.3902\n",
      "2020-07-12 07:25:20,322 - mmaction - INFO - Saving checkpoint at 20 epochs\n"
     ],
     "name": "stderr"
    },
    {
     "output_type": "stream",
     "text": [
      "[>>>>>>>>>>>>>>>>>>>>>>>>>>>>>>>>>] 10/10, 4.4 task/s, elapsed: 2s, ETA:     0s"
     ],
     "name": "stdout"
    },
    {
     "output_type": "stream",
     "text": [
      "2020-07-12 07:25:23,010 - mmaction - INFO - Evaluating top_k_accuracy...\n",
      "2020-07-12 07:25:23,016 - mmaction - INFO - \n",
      "top1_acc\t0.9000\n",
      "top5_acc\t1.0000\n",
      "2020-07-12 07:25:23,017 - mmaction - INFO - Evaluating mean_class_accuracy...\n",
      "2020-07-12 07:25:23,028 - mmaction - INFO - \n",
      "mean_acc\t0.9000\n",
      "2020-07-12 07:25:23,035 - mmaction - INFO - Epoch [20][15/15]\tlr: 7.813e-05, top1_acc: 0.9000, top5_acc: 1.0000, mean_class_accuracy: 0.9000\n",
      "2020-07-12 07:25:28,219 - mmaction - INFO - Epoch [21][5/15]\tlr: 7.813e-05, eta: 0:01:32, time: 1.033, data_time: 0.602, memory: 2918, top1_acc: 0.8000, top5_acc: 1.0000, loss_cls: 0.4515, loss: 0.4515, grad_norm: 8.3849\n",
      "2020-07-12 07:25:30,338 - mmaction - INFO - Epoch [21][10/15]\tlr: 7.813e-05, eta: 0:01:28, time: 0.425, data_time: 0.006, memory: 2918, top1_acc: 0.8000, top5_acc: 1.0000, loss_cls: 0.4543, loss: 0.4543, grad_norm: 9.1140\n",
      "2020-07-12 07:25:32,281 - mmaction - INFO - Epoch [21][15/15]\tlr: 7.813e-05, eta: 0:01:24, time: 0.389, data_time: 0.001, memory: 2918, top1_acc: 0.8000, top5_acc: 1.0000, loss_cls: 0.5325, loss: 0.5325, grad_norm: 10.5986\n",
      "2020-07-12 07:25:37,778 - mmaction - INFO - Epoch [22][5/15]\tlr: 7.813e-05, eta: 0:01:22, time: 1.086, data_time: 0.642, memory: 2918, top1_acc: 0.7000, top5_acc: 1.0000, loss_cls: 0.5646, loss: 0.5646, grad_norm: 10.7888\n",
      "2020-07-12 07:25:39,839 - mmaction - INFO - Epoch [22][10/15]\tlr: 7.813e-05, eta: 0:01:19, time: 0.412, data_time: 0.003, memory: 2918, top1_acc: 0.8000, top5_acc: 1.0000, loss_cls: 0.5058, loss: 0.5058, grad_norm: 9.9721\n",
      "2020-07-12 07:25:41,783 - mmaction - INFO - Epoch [22][15/15]\tlr: 7.813e-05, eta: 0:01:15, time: 0.389, data_time: 0.001, memory: 2918, top1_acc: 0.9000, top5_acc: 1.0000, loss_cls: 0.4390, loss: 0.4390, grad_norm: 8.7591\n",
      "2020-07-12 07:25:47,405 - mmaction - INFO - Epoch [23][5/15]\tlr: 7.813e-05, eta: 0:01:13, time: 1.110, data_time: 0.687, memory: 2918, top1_acc: 0.6000, top5_acc: 1.0000, loss_cls: 0.6280, loss: 0.6280, grad_norm: 12.5607\n",
      "2020-07-12 07:25:49,435 - mmaction - INFO - Epoch [23][10/15]\tlr: 7.813e-05, eta: 0:01:09, time: 0.406, data_time: 0.001, memory: 2918, top1_acc: 1.0000, top5_acc: 1.0000, loss_cls: 0.3285, loss: 0.3285, grad_norm: 6.4899\n",
      "2020-07-12 07:25:51,380 - mmaction - INFO - Epoch [23][15/15]\tlr: 7.813e-05, eta: 0:01:06, time: 0.389, data_time: 0.001, memory: 2918, top1_acc: 0.8000, top5_acc: 1.0000, loss_cls: 0.4970, loss: 0.4970, grad_norm: 9.2490\n",
      "2020-07-12 07:25:56,917 - mmaction - INFO - Epoch [24][5/15]\tlr: 7.813e-05, eta: 0:01:03, time: 1.094, data_time: 0.656, memory: 2918, top1_acc: 0.9000, top5_acc: 1.0000, loss_cls: 0.3843, loss: 0.3843, grad_norm: 7.6723\n",
      "2020-07-12 07:25:58,964 - mmaction - INFO - Epoch [24][10/15]\tlr: 7.813e-05, eta: 0:01:00, time: 0.409, data_time: 0.005, memory: 2918, top1_acc: 0.6000, top5_acc: 1.0000, loss_cls: 0.5473, loss: 0.5473, grad_norm: 11.9723\n",
      "2020-07-12 07:26:00,907 - mmaction - INFO - Epoch [24][15/15]\tlr: 7.813e-05, eta: 0:00:56, time: 0.389, data_time: 0.001, memory: 2918, top1_acc: 0.9000, top5_acc: 1.0000, loss_cls: 0.3736, loss: 0.3736, grad_norm: 7.4713\n",
      "2020-07-12 07:26:06,323 - mmaction - INFO - Epoch [25][5/15]\tlr: 7.813e-05, eta: 0:00:54, time: 1.068, data_time: 0.634, memory: 2918, top1_acc: 0.5000, top5_acc: 1.0000, loss_cls: 0.5819, loss: 0.5819, grad_norm: 12.0143\n",
      "2020-07-12 07:26:08,427 - mmaction - INFO - Epoch [25][10/15]\tlr: 7.813e-05, eta: 0:00:50, time: 0.422, data_time: 0.006, memory: 2918, top1_acc: 0.6000, top5_acc: 1.0000, loss_cls: 0.5972, loss: 0.5972, grad_norm: 11.7791\n",
      "2020-07-12 07:26:10,366 - mmaction - INFO - Epoch [25][15/15]\tlr: 7.813e-05, eta: 0:00:47, time: 0.387, data_time: 0.001, memory: 2918, top1_acc: 0.8000, top5_acc: 1.0000, loss_cls: 0.4508, loss: 0.4508, grad_norm: 9.2943\n"
     ],
     "name": "stderr"
    },
    {
     "output_type": "stream",
     "text": [
      "[>>>>>>>>>>>>>>>>>>>>>>>>>>>>>>>>>] 10/10, 4.5 task/s, elapsed: 2s, ETA:     0s"
     ],
     "name": "stdout"
    },
    {
     "output_type": "stream",
     "text": [
      "2020-07-12 07:26:12,741 - mmaction - INFO - Evaluating top_k_accuracy...\n",
      "2020-07-12 07:26:12,743 - mmaction - INFO - \n",
      "top1_acc\t1.0000\n",
      "top5_acc\t1.0000\n",
      "2020-07-12 07:26:12,745 - mmaction - INFO - Evaluating mean_class_accuracy...\n",
      "2020-07-12 07:26:12,747 - mmaction - INFO - \n",
      "mean_acc\t1.0000\n",
      "2020-07-12 07:26:12,749 - mmaction - INFO - Now best checkpoint is epoch_25.pth\n",
      "2020-07-12 07:26:12,751 - mmaction - INFO - Epoch [25][15/15]\tlr: 7.813e-05, top1_acc: 1.0000, top5_acc: 1.0000, mean_class_accuracy: 1.0000\n",
      "2020-07-12 07:26:18,101 - mmaction - INFO - Epoch [26][5/15]\tlr: 7.813e-05, eta: 0:00:44, time: 1.069, data_time: 0.650, memory: 2918, top1_acc: 0.9000, top5_acc: 1.0000, loss_cls: 0.3758, loss: 0.3758, grad_norm: 7.9628\n",
      "2020-07-12 07:26:20,152 - mmaction - INFO - Epoch [26][10/15]\tlr: 7.813e-05, eta: 0:00:41, time: 0.410, data_time: 0.005, memory: 2918, top1_acc: 0.5000, top5_acc: 1.0000, loss_cls: 0.5394, loss: 0.5394, grad_norm: 10.7973\n",
      "2020-07-12 07:26:22,099 - mmaction - INFO - Epoch [26][15/15]\tlr: 7.813e-05, eta: 0:00:37, time: 0.389, data_time: 0.002, memory: 2918, top1_acc: 0.7000, top5_acc: 1.0000, loss_cls: 0.4192, loss: 0.4192, grad_norm: 8.5457\n",
      "2020-07-12 07:26:27,704 - mmaction - INFO - Epoch [27][5/15]\tlr: 7.813e-05, eta: 0:00:34, time: 1.107, data_time: 0.670, memory: 2918, top1_acc: 0.5000, top5_acc: 1.0000, loss_cls: 0.5921, loss: 0.5921, grad_norm: 11.3939\n",
      "2020-07-12 07:26:29,749 - mmaction - INFO - Epoch [27][10/15]\tlr: 7.813e-05, eta: 0:00:31, time: 0.409, data_time: 0.002, memory: 2918, top1_acc: 0.9000, top5_acc: 1.0000, loss_cls: 0.4483, loss: 0.4483, grad_norm: 9.5277\n",
      "2020-07-12 07:26:31,689 - mmaction - INFO - Epoch [27][15/15]\tlr: 7.813e-05, eta: 0:00:28, time: 0.388, data_time: 0.001, memory: 2918, top1_acc: 0.9000, top5_acc: 1.0000, loss_cls: 0.3866, loss: 0.3866, grad_norm: 8.2084\n",
      "2020-07-12 07:26:37,211 - mmaction - INFO - Epoch [28][5/15]\tlr: 7.813e-05, eta: 0:00:25, time: 1.090, data_time: 0.665, memory: 2918, top1_acc: 0.7000, top5_acc: 1.0000, loss_cls: 0.5439, loss: 0.5439, grad_norm: 11.1986\n",
      "2020-07-12 07:26:39,231 - mmaction - INFO - Epoch [28][10/15]\tlr: 7.813e-05, eta: 0:00:22, time: 0.405, data_time: 0.004, memory: 2918, top1_acc: 0.8000, top5_acc: 1.0000, loss_cls: 0.4845, loss: 0.4845, grad_norm: 9.9221\n",
      "2020-07-12 07:26:41,172 - mmaction - INFO - Epoch [28][15/15]\tlr: 7.813e-05, eta: 0:00:18, time: 0.388, data_time: 0.001, memory: 2918, top1_acc: 0.9000, top5_acc: 1.0000, loss_cls: 0.3130, loss: 0.3130, grad_norm: 6.3319\n",
      "2020-07-12 07:26:46,643 - mmaction - INFO - Epoch [29][5/15]\tlr: 7.813e-05, eta: 0:00:15, time: 1.081, data_time: 0.655, memory: 2918, top1_acc: 1.0000, top5_acc: 1.0000, loss_cls: 0.3150, loss: 0.3150, grad_norm: 6.6704\n",
      "2020-07-12 07:26:48,684 - mmaction - INFO - Epoch [29][10/15]\tlr: 7.813e-05, eta: 0:00:12, time: 0.408, data_time: 0.003, memory: 2918, top1_acc: 0.7000, top5_acc: 1.0000, loss_cls: 0.4966, loss: 0.4966, grad_norm: 10.3015\n",
      "2020-07-12 07:26:50,637 - mmaction - INFO - Epoch [29][15/15]\tlr: 7.813e-05, eta: 0:00:09, time: 0.391, data_time: 0.001, memory: 2918, top1_acc: 0.7000, top5_acc: 1.0000, loss_cls: 0.5301, loss: 0.5301, grad_norm: 10.5781\n",
      "2020-07-12 07:26:56,175 - mmaction - INFO - Epoch [30][5/15]\tlr: 7.813e-05, eta: 0:00:06, time: 1.094, data_time: 0.658, memory: 2918, top1_acc: 0.5000, top5_acc: 1.0000, loss_cls: 0.6773, loss: 0.6773, grad_norm: 13.5639\n",
      "2020-07-12 07:26:58,243 - mmaction - INFO - Epoch [30][10/15]\tlr: 7.813e-05, eta: 0:00:03, time: 0.413, data_time: 0.002, memory: 2918, top1_acc: 0.7000, top5_acc: 1.0000, loss_cls: 0.6277, loss: 0.6277, grad_norm: 12.5613\n",
      "2020-07-12 07:27:00,183 - mmaction - INFO - Epoch [30][15/15]\tlr: 7.813e-05, eta: 0:00:00, time: 0.388, data_time: 0.001, memory: 2918, top1_acc: 0.6000, top5_acc: 1.0000, loss_cls: 0.5681, loss: 0.5681, grad_norm: 11.7032\n",
      "2020-07-12 07:27:00,254 - mmaction - INFO - Saving checkpoint at 30 epochs\n"
     ],
     "name": "stderr"
    },
    {
     "output_type": "stream",
     "text": [
      "[>>>>>>>>>>>>>>>>>>>>>>>>>>>>>>>>>] 10/10, 4.5 task/s, elapsed: 2s, ETA:     0s"
     ],
     "name": "stdout"
    },
    {
     "output_type": "stream",
     "text": [
      "2020-07-12 07:27:02,894 - mmaction - INFO - Evaluating top_k_accuracy...\n",
      "2020-07-12 07:27:02,895 - mmaction - INFO - \n",
      "top1_acc\t1.0000\n",
      "top5_acc\t1.0000\n",
      "2020-07-12 07:27:02,896 - mmaction - INFO - Evaluating mean_class_accuracy...\n",
      "2020-07-12 07:27:02,900 - mmaction - INFO - \n",
      "mean_acc\t1.0000\n",
      "2020-07-12 07:27:02,902 - mmaction - INFO - Epoch [30][15/15]\tlr: 7.813e-05, top1_acc: 1.0000, top5_acc: 1.0000, mean_class_accuracy: 1.0000\n"
     ],
     "name": "stderr"
    }
   ]
  },
  {
   "cell_type": "markdown",
   "metadata": {
    "id": "zdSd7oTLlxIf",
    "colab_type": "text"
   },
   "source": [
    "### Understand the log\n",
    "From the log, we can have a basic understanding the training process and know how well the recognizer is trained.\n",
    "\n",
    "Firstly, the ResNet-50 backbone pre-trained on ImageNet is loaded, this is a common practice since training from scratch is more cost. The log shows that all the weights of the ResNet-50 backbone are loaded except the `fc.bias` and `fc.weight`.\n",
    "\n",
    "Second, since the dataset we are using is small, we loaded a TSN model and finetune it for action recognition.\n",
    "The original TSN is trained on original Kinetics-400 dataset which contains 400 classes but Kinetics-400 Tiny dataset only have 2 classes. Therefore, the last FC layer of the pre-trained TSN for classification has different weight shape and is not used.\n",
    "\n",
    "Third, after training, the recognizer is evaluated by the default evaluation. The results show that the recognizer achieves 100% top1 accuracy and 100% top5 accuracy on the val dataset,\n",
    " \n",
    "Not bad!"
   ]
  },
  {
   "cell_type": "markdown",
   "metadata": {
    "id": "ryVoSfZVmogw",
    "colab_type": "text"
   },
   "source": [
    "## Test the trained recognizer\n",
    "\n",
    "After finetuning the recognizer, let's check the prediction results!"
   ]
  },
  {
   "cell_type": "code",
   "metadata": {
    "id": "eyY3hCMwyTct",
    "colab_type": "code",
    "colab": {
     "base_uri": "https://localhost:8080/",
     "height": 221
    },
    "outputId": "4aedc0b1-f75f-4410-beae-cc60f50ab930"
   },
   "source": [
    "from mmaction.apis import single_gpu_test\n",
    "from mmaction.datasets import build_dataloader\n",
    "from mmcv.parallel import MMDataParallel\n",
    "\n",
    "# Build a test dataloader\n",
    "dataset = build_dataset(cfg.data.test, dict(test_mode=True))\n",
    "data_loader = build_dataloader(\n",
    "        dataset,\n",
    "        videos_per_gpu=1,\n",
    "        workers_per_gpu=cfg.data.workers_per_gpu,\n",
    "        dist=False,\n",
    "        shuffle=False)\n",
    "model = MMDataParallel(model, device_ids=[0])\n",
    "outputs = single_gpu_test(model, data_loader)\n",
    "\n",
    "eval_config = cfg.evaluation\n",
    "eval_config.pop('interval')\n",
    "eval_res = dataset.evaluate(outputs, **eval_config)\n",
    "for name, val in eval_res.items():\n",
    "    print(f'{name}: {val:.04f}')"
   ],
   "execution_count": 15,
   "outputs": [
    {
     "output_type": "stream",
     "text": [
      "[>>>>>>>>>>>>>>>>>>>>>>>>>>>>>>>>] 10/10, 0.5 task/s, elapsed: 18s, ETA:     0s\n",
      "Evaluating top_k_accuracy...\n",
      "\n",
      "top1_acc\t1.0000\n",
      "top5_acc\t1.0000\n",
      "\n",
      "Evaluating mean_class_accuracy...\n",
      "\n",
      "mean_acc\t1.0000\n",
      "top1_acc: 1.0000\n",
      "top5_acc: 1.0000\n",
      "mean_class_accuracy: 1.0000\n"
     ],
     "name": "stdout"
    }
   ]
  }
 ]
}
