{
  "nbformat": 4,
  "nbformat_minor": 0,
  "metadata": {
    "colab": {
      "name": "MMAction2 Tutorial.ipynb",
      "provenance": [],
      "authorship_tag": "ABX9TyN1cWfkyEbxT4H/X9qoeM/3",
      "include_colab_link": true
    },
    "kernelspec": {
      "name": "python3",
      "display_name": "Python 3"
    },
    "accelerator": "GPU"
  },
  "cells": [
    {
      "cell_type": "markdown",
      "metadata": {
        "id": "view-in-github",
        "colab_type": "text"
      },
      "source": [
        "<a href=\"https://colab.research.google.com/github/dreamerlin/mmaction2/blob/tutorial_ipython/demo/MMAction2_Tutorial.ipynb\" target=\"_parent\"><img src=\"https://colab.research.google.com/assets/colab-badge.svg\" alt=\"Open In Colab\"/></a>"
      ]
    },
    {
      "cell_type": "markdown",
      "metadata": {
        "id": "VcjSRFELVbNk",
        "colab_type": "text"
      },
      "source": [
        "# MMAction2 Tutorial\n",
        "\n",
        "Welcome to MMAction2! This is the official colab tutorial for using MMAction2. In this tutorial, you will learn\n",
        "- Perform inference with a MMAction2 recognizer.\n",
        "- Train a new recognizer with a new dataset.\n",
        "\n",
        "Let's start!"
      ]
    },
    {
      "cell_type": "markdown",
      "metadata": {
        "id": "7LqHGkGEVqpm",
        "colab_type": "text"
      },
      "source": [
        "## Install MMAction2"
      ]
    },
    {
      "cell_type": "code",
      "metadata": {
        "id": "Bf8PpPXtVvmg",
        "colab_type": "code",
        "colab": {
          "base_uri": "https://localhost:8080/",
          "height": 170
        },
        "outputId": "61d7383b-0deb-4d8a-8435-a5b554afd8a3"
      },
      "source": [
        "# Check nvcc version\n",
        "!nvcc -V\n",
        "# Check GCC version\n",
        "!gcc --version"
      ],
      "execution_count": 2,
      "outputs": [
        {
          "output_type": "stream",
          "text": [
            "nvcc: NVIDIA (R) Cuda compiler driver\n",
            "Copyright (c) 2005-2019 NVIDIA Corporation\n",
            "Built on Sun_Jul_28_19:07:16_PDT_2019\n",
            "Cuda compilation tools, release 10.1, V10.1.243\n",
            "gcc (Ubuntu 7.5.0-3ubuntu1~18.04) 7.5.0\n",
            "Copyright (C) 2017 Free Software Foundation, Inc.\n",
            "This is free software; see the source for copying conditions.  There is NO\n",
            "warranty; not even for MERCHANTABILITY or FITNESS FOR A PARTICULAR PURPOSE.\n",
            "\n"
          ],
          "name": "stdout"
        }
      ]
    },
    {
      "cell_type": "code",
      "metadata": {
        "id": "5PAJ4ArzV5Ry",
        "colab_type": "code",
        "colab": {
          "base_uri": "https://localhost:8080/",
          "height": 1000
        },
        "outputId": "84d129aa-6b8b-4166-ba0d-9c9a3dd9861b"
      },
      "source": [
        "# install dependencies: (use cu101 because colab has CUDA 10.1)\n",
        "!pip install -U torch==1.5.1+cu101 torchvision==0.6.1+cu101 -f https://download.pytorch.org/whl/torch_stable.html\n",
        "\n",
        "# Install mmaction2\n",
        "!rm -rf mmaction2\n",
        "!git clone https://github.com/open-mmlab/mmaction2.git\n",
        "%cd mmaction2\n",
        "!pip install -e .\n",
        "!pip install -r requirements/optional.txt"
      ],
      "execution_count": 3,
      "outputs": [
        {
          "output_type": "stream",
          "text": [
            "Looking in links: https://download.pytorch.org/whl/torch_stable.html\n",
            "Requirement already up-to-date: torch==1.5.1+cu101 in /usr/local/lib/python3.6/dist-packages (1.5.1+cu101)\n",
            "Requirement already up-to-date: torchvision==0.6.1+cu101 in /usr/local/lib/python3.6/dist-packages (0.6.1+cu101)\n",
            "Requirement already satisfied, skipping upgrade: future in /usr/local/lib/python3.6/dist-packages (from torch==1.5.1+cu101) (0.16.0)\n",
            "Requirement already satisfied, skipping upgrade: numpy in /usr/local/lib/python3.6/dist-packages (from torch==1.5.1+cu101) (1.18.5)\n",
            "Requirement already satisfied, skipping upgrade: pillow>=4.1.1 in /usr/local/lib/python3.6/dist-packages (from torchvision==0.6.1+cu101) (7.0.0)\n",
            "Collecting mmcv\n",
            "\u001b[?25l  Downloading https://files.pythonhosted.org/packages/a3/13/ffb0e134ab220901806299e4da010d5b2f6a96c3d3ed8a8705c813dfbf56/mmcv-1.0.2.tar.gz (234kB)\n",
            "\u001b[K     |████████████████████████████████| 235kB 5.2MB/s \n",
            "Collecting yapf\n",
            "\u001b[?25l  Downloading https://files.pythonhosted.org/packages/c1/5d/d84677fe852bc5e091739acda444a9b6700ffc6b11a21b00dd244c8caef0/yapf-0.30.0-py2.py3-none-any.whl (190kB)\n",
            "\u001b[K     |████████████████████████████████| 194kB 15.1MB/s \n",
            "\u001b[?25hRequirement already satisfied: opencv-python>=3 in /usr/local/lib/python3.6/dist-packages (from mmcv) (4.1.2.30)\n",
            "Building wheels for collected packages: mmcv\n",
            "  Building wheel for mmcv (setup.py) ... \u001b[?25l\u001b[?25hdone\n",
            "  Created wheel for mmcv: filename=mmcv-1.0.2-cp36-cp36m-linux_x86_64.whl size=383271 sha256=414a17a556aa6a3ac3cd3a707fb9df37cbbe587c46591aa3b35c2f614c698760\n",
            "  Stored in directory: /root/.cache/pip/wheels/89/72/2f/090938947dcf1975a513b99748fcaf0277d18e834cf5d9095a\n",
            "Successfully built mmcv\n",
            "Installing collected packages: addict, yapf, mmcv\n",
            "Successfully installed addict-2.2.1 mmcv-1.0.2 yapf-0.30.0\n",
            "Cloning into 'mmaction2'...\n",
            "remote: Enumerating objects: 4, done.\u001b[K\n",
            "remote: Counting objects: 100% (4/4), done.\u001b[K\n",
            "remote: Compressing objects: 100% (4/4), done.\u001b[K\n",
            "remote: Total 4736 (delta 0), reused 1 (delta 0), pack-reused 4732\u001b[K\n",
            "Receiving objects: 100% (4736/4736), 29.67 MiB | 23.26 MiB/s, done.\n",
            "Resolving deltas: 100% (3173/3173), done.\n",
            "/content/mmaction2\n",
            "Obtaining file:///content/mmaction2\n",
            "Requirement already satisfied: matplotlib in /usr/local/lib/python3.6/dist-packages (from mmaction==0.1.0+0c57f69) (3.2.2)\n",
            "Collecting mmcv-nightly\n",
            "\u001b[?25l  Downloading https://files.pythonhosted.org/packages/fe/20/43eb522053a9de2ec4a383f38d18909520aab8e3b75cd93a50fbfc8cb790/mmcv_nightly-1.0rc0.dev20200630-cp36-cp36m-manylinux1_x86_64.whl (240kB)\n",
            "\u001b[K     |████████████████████████████████| 245kB 4.4MB/s \n",
            "\u001b[?25hRequirement already satisfied: numpy in /usr/local/lib/python3.6/dist-packages (from mmaction==0.1.0+0c57f69) (1.18.5)\n",
            "Requirement already satisfied: opencv-contrib-python in /usr/local/lib/python3.6/dist-packages (from mmaction==0.1.0+0c57f69) (4.1.2.30)\n",
            "Collecting Pillow<=6.2.2\n",
            "\u001b[?25l  Downloading https://files.pythonhosted.org/packages/8a/fd/bbbc569f98f47813c50a116b539d97b3b17a86ac7a309f83b2022d26caf2/Pillow-6.2.2-cp36-cp36m-manylinux1_x86_64.whl (2.1MB)\n",
            "\u001b[K     |████████████████████████████████| 2.1MB 12.4MB/s \n",
            "\u001b[?25hRequirement already satisfied: pyparsing!=2.0.4,!=2.1.2,!=2.1.6,>=2.0.1 in /usr/local/lib/python3.6/dist-packages (from matplotlib->mmaction==0.1.0+0c57f69) (2.4.7)\n",
            "Requirement already satisfied: python-dateutil>=2.1 in /usr/local/lib/python3.6/dist-packages (from matplotlib->mmaction==0.1.0+0c57f69) (2.8.1)\n",
            "Requirement already satisfied: cycler>=0.10 in /usr/local/lib/python3.6/dist-packages (from matplotlib->mmaction==0.1.0+0c57f69) (0.10.0)\n",
            "Requirement already satisfied: kiwisolver>=1.0.1 in /usr/local/lib/python3.6/dist-packages (from matplotlib->mmaction==0.1.0+0c57f69) (1.2.0)\n",
            "Requirement already satisfied: pyyaml in /usr/local/lib/python3.6/dist-packages (from mmcv-nightly->mmaction==0.1.0+0c57f69) (3.13)\n",
            "Collecting clang-format\n",
            "\u001b[?25l  Downloading https://files.pythonhosted.org/packages/25/f2/d989afaf8a91385f18fd06e6202644be0bc3a1d14548c18a8ece4911e005/clang_format-9.0.0-py2.py3-none-manylinux1_x86_64.whl (1.4MB)\n",
            "\u001b[K     |████████████████████████████████| 1.4MB 39.3MB/s \n",
            "\u001b[?25hRequirement already satisfied: yapf in /usr/local/lib/python3.6/dist-packages (from mmcv-nightly->mmaction==0.1.0+0c57f69) (0.30.0)\n",
            "Requirement already satisfied: addict in /usr/local/lib/python3.6/dist-packages (from mmcv-nightly->mmaction==0.1.0+0c57f69) (2.2.1)\n",
            "Requirement already satisfied: opencv-python>=3 in /usr/local/lib/python3.6/dist-packages (from mmcv-nightly->mmaction==0.1.0+0c57f69) (4.1.2.30)\n",
            "Requirement already satisfied: six>=1.5 in /usr/local/lib/python3.6/dist-packages (from python-dateutil>=2.1->matplotlib->mmaction==0.1.0+0c57f69) (1.12.0)\n",
            "\u001b[31mERROR: albumentations 0.1.12 has requirement imgaug<0.2.7,>=0.2.5, but you'll have imgaug 0.2.9 which is incompatible.\u001b[0m\n",
            "Installing collected packages: clang-format, mmcv-nightly, Pillow, mmaction\n",
            "  Found existing installation: Pillow 7.0.0\n",
            "    Uninstalling Pillow-7.0.0:\n",
            "      Successfully uninstalled Pillow-7.0.0\n",
            "  Running setup.py develop for mmaction\n",
            "Successfully installed Pillow-6.2.2 clang-format-9.0.0 mmaction mmcv-nightly-1.0rc0.dev20200630\n"
          ],
          "name": "stdout"
        },
        {
          "output_type": "display_data",
          "data": {
            "application/vnd.colab-display-data+json": {
              "pip_warning": {
                "packages": [
                  "PIL"
                ]
              }
            }
          },
          "metadata": {
            "tags": []
          }
        },
        {
          "output_type": "stream",
          "text": [
            "Collecting decord\n",
            "\u001b[?25l  Downloading https://files.pythonhosted.org/packages/8b/2f/8578948cfdb9662a718ffb817291fc135084006f9558569a5af05fec3908/decord-0.4.0-py2.py3-none-manylinux1_x86_64.whl (11.8MB)\n",
            "\u001b[K     |████████████████████████████████| 11.8MB 258kB/s \n",
            "\u001b[?25hCollecting PyTurboJPEG\n",
            "  Downloading https://files.pythonhosted.org/packages/9d/f5/6106c673096b1bc1af716bbc9b17e542c77ccad5fafd150afb91ff18a6e8/PyTurboJPEG-1.4.1.tar.gz\n",
            "Collecting av\n",
            "\u001b[?25l  Downloading https://files.pythonhosted.org/packages/9e/62/9a992be76f8e13ce0e3a24a838191b546805545116f9fc869bd11bd21b5f/av-8.0.2-cp36-cp36m-manylinux2010_x86_64.whl (36.9MB)\n",
            "\u001b[K     |████████████████████████████████| 36.9MB 66kB/s \n",
            "\u001b[?25hRequirement already satisfied: numpy>=1.14.0 in /usr/local/lib/python3.6/dist-packages (from decord->-r requirements/optional.txt (line 1)) (1.18.5)\n",
            "Building wheels for collected packages: PyTurboJPEG\n",
            "  Building wheel for PyTurboJPEG (setup.py) ... \u001b[?25l\u001b[?25hdone\n",
            "  Created wheel for PyTurboJPEG: filename=PyTurboJPEG-1.4.1-cp36-none-any.whl size=7002 sha256=8730aa46378c847a4e69c8e2b6c9ce9ad74c2da31bb2bbd1af8ff9a6b28a7bc5\n",
            "  Stored in directory: /root/.cache/pip/wheels/c3/21/97/152eed6e60d59f1c432139dee7a2e89de44026ef1855b4c4d7\n",
            "Successfully built PyTurboJPEG\n",
            "Installing collected packages: decord, PyTurboJPEG, av\n",
            "Successfully installed PyTurboJPEG-1.4.1 av-8.0.2 decord-0.4.0\n"
          ],
          "name": "stdout"
        }
      ]
    },
    {
      "cell_type": "code",
      "metadata": {
        "id": "No_zZAFpWC-a",
        "colab_type": "code",
        "colab": {
          "base_uri": "https://localhost:8080/",
          "height": 51
        },
        "outputId": "8c640f77-3211-4efe-f15c-3d344b0fe91f"
      },
      "source": [
        "# Check Pytorch installation\n",
        "import torch, torchvision\n",
        "print(torch.__version__, torch.cuda.is_available())\n",
        "\n",
        "# Check MMAction2 installation\n",
        "import mmaction\n",
        "print(mmaction.__version__)"
      ],
      "execution_count": 4,
      "outputs": [
        {
          "output_type": "stream",
          "text": [
            "1.5.1+cu101 True\n",
            "0.1.0+0c57f69\n"
          ],
          "name": "stdout"
        }
      ]
    },
    {
      "cell_type": "markdown",
      "metadata": {
        "id": "pXf7oV5DWdab",
        "colab_type": "text"
      },
      "source": [
        "## Perform inference with a MMAction2 recognizer\n",
        "MMAction2 already provides high level APIs to do inference and training."
      ]
    },
    {
      "cell_type": "code",
      "metadata": {
        "id": "64CW6d_AaT-Q",
        "colab_type": "code",
        "colab": {
          "base_uri": "https://localhost:8080/",
          "height": 224
        },
        "outputId": "dc4551c4-0650-4f58-ec3d-c5ee9aba3469"
      },
      "source": [
        "!mkdir checkpoints\n",
        "!wget -c https://openmmlab.oss-accelerate.aliyuncs.com/mmaction/recognition/tsn/tsn_r50_1x1x3_100e_kinetics400_rgb/tsn_r50_1x1x3_100e_kinetics400_rgb_20200614-e508be42.pth \\\n",
        "      -O checkpoints/tsn_r50_1x1x3_100e_kinetics400_rgb_20200614-e508be42.pth"
      ],
      "execution_count": 5,
      "outputs": [
        {
          "output_type": "stream",
          "text": [
            "--2020-07-12 06:23:39--  https://openmmlab.oss-accelerate.aliyuncs.com/mmaction/recognition/tsn/tsn_r50_1x1x3_100e_kinetics400_rgb/tsn_r50_1x1x3_100e_kinetics400_rgb_20200614-e508be42.pth\n",
            "Resolving openmmlab.oss-accelerate.aliyuncs.com (openmmlab.oss-accelerate.aliyuncs.com)... 47.88.36.1\n",
            "Connecting to openmmlab.oss-accelerate.aliyuncs.com (openmmlab.oss-accelerate.aliyuncs.com)|47.88.36.1|:443... connected.\n",
            "HTTP request sent, awaiting response... 200 OK\n",
            "Length: 97579339 (93M) [application/octet-stream]\n",
            "Saving to: ‘checkpoints/tsn_r50_1x1x3_100e_kinetics400_rgb_20200614-e508be42.pth’\n",
            "\n",
            "checkpoints/tsn_r50 100%[===================>]  93.06M  13.0MB/s    in 7.2s    \n",
            "\n",
            "2020-07-12 06:23:47 (13.0 MB/s) - ‘checkpoints/tsn_r50_1x1x3_100e_kinetics400_rgb_20200614-e508be42.pth’ saved [97579339/97579339]\n",
            "\n"
          ],
          "name": "stdout"
        }
      ]
    },
    {
      "cell_type": "code",
      "metadata": {
        "id": "HNZB7NoSabzj",
        "colab_type": "code",
        "colab": {}
      },
      "source": [
        "from mmaction.apis import inference_recognizer, init_recognizer\n",
        "\n",
        "# Choose to use a config and initialize the recognizer\n",
        "config = 'configs/recognition/tsn/tsn_r50_video_inference_1x1x3_100e_kinetics400_rgb.py'\n",
        "# Setup a checkpoint file to load\n",
        "checkpoint = 'checkpoints/tsn_r50_1x1x3_100e_kinetics400_rgb_20200614-e508be42.pth'\n",
        "# Initialize the recognizer\n",
        "model = init_recognizer(config, checkpoint, device='cuda:0')"
      ],
      "execution_count": 6,
      "outputs": []
    },
    {
      "cell_type": "code",
      "metadata": {
        "id": "rEMsBnpHapAn",
        "colab_type": "code",
        "colab": {}
      },
      "source": [
        "# Use the recognizer to do inference\n",
        "video = 'demo/demo.mp4'\n",
        "label = 'demo/label_map.txt'\n",
        "results = inference_recognizer(model, video, label)"
      ],
      "execution_count": 7,
      "outputs": []
    },
    {
      "cell_type": "code",
      "metadata": {
        "id": "NIyJXqfWathq",
        "colab_type": "code",
        "colab": {
          "base_uri": "https://localhost:8080/",
          "height": 102
        },
        "outputId": "aaf41fc2-d2b3-4743-aa90-59c53e4f44f2"
      },
      "source": [
        "# Let's show the results\n",
        "for result in results:\n",
        "    print(f'{result[0]}: ', result[1])"
      ],
      "execution_count": 8,
      "outputs": [
        {
          "output_type": "stream",
          "text": [
            "arm wrestling:  29.61644\n",
            "rock scissors paper:  10.754843\n",
            "shaking hands:  9.908401\n",
            "clapping:  9.189913\n",
            "massaging feet:  8.305306\n"
          ],
          "name": "stdout"
        }
      ]
    },
    {
      "cell_type": "markdown",
      "metadata": {
        "id": "QuZG8kZ2fJ5d",
        "colab_type": "text"
      },
      "source": [
        "## Train a recognizer on customized dataset\n",
        "\n",
        "To train a new recognizer, there are usually three things to do:\n",
        "1. Support a new dataset\n",
        "2. Modify the config\n",
        "3. Train a new recognizer"
      ]
    },
    {
      "cell_type": "markdown",
      "metadata": {
        "id": "neEFyxChfgiJ",
        "colab_type": "text"
      },
      "source": [
        "### Support a new dataset\n",
        "\n",
        "In this tutorial, we gives an example to convert the data into the format of existing datasets. Other methods and more advanced usages can be found in the [doc](/docs/tutorials/new_dataset.md)\n",
        "\n",
        "Firstly, let's download a tiny dataset obtained from [Kinetics-400](https://deepmind.com/research/open-source/open-source-datasets/kinetics/). We select 30 videos with their labels as train dataset and 10 videos with their labels as test dataset."
      ]
    },
    {
      "cell_type": "code",
      "metadata": {
        "id": "gjsUj9JzgUlJ",
        "colab_type": "code",
        "colab": {
          "base_uri": "https://localhost:8080/",
          "height": 221
        },
        "outputId": "7a19e180-4d98-482f-b962-6700b8b210fb"
      },
      "source": [
        "# download, decompress the data\n",
        "!rm kinetics400_tiny.zip*\n",
        "!rm -rf kinetics400_tiny\n",
        "!wget https://openmmlab.oss-accelerate.aliyuncs.com/mmaction/kinetics400_tiny.zip\n",
        "!unzip kinetics400_tiny.zip > /dev/null"
      ],
      "execution_count": 9,
      "outputs": [
        {
          "output_type": "stream",
          "text": [
            "rm: cannot remove 'kinetics400_tiny.zip*': No such file or directory\n",
            "--2020-07-12 06:24:36--  https://openmmlab.oss-accelerate.aliyuncs.com/mmaction/kinetics400_tiny.zip\n",
            "Resolving openmmlab.oss-accelerate.aliyuncs.com (openmmlab.oss-accelerate.aliyuncs.com)... 47.88.36.1\n",
            "Connecting to openmmlab.oss-accelerate.aliyuncs.com (openmmlab.oss-accelerate.aliyuncs.com)|47.88.36.1|:443... connected.\n",
            "HTTP request sent, awaiting response... 200 OK\n",
            "Length: 18308682 (17M) [application/zip]\n",
            "Saving to: ‘kinetics400_tiny.zip’\n",
            "\n",
            "kinetics400_tiny.zi 100%[===================>]  17.46M  4.71MB/s    in 14s     \n",
            "\n",
            "2020-07-12 06:24:51 (1.23 MB/s) - ‘kinetics400_tiny.zip’ saved [18308682/18308682]\n",
            "\n"
          ],
          "name": "stdout"
        }
      ]
    },
    {
      "cell_type": "code",
      "metadata": {
        "id": "AbZ-o7V6hNw4",
        "colab_type": "code",
        "colab": {
          "base_uri": "https://localhost:8080/",
          "height": 1000
        },
        "outputId": "e06d3ca6-1066-42a5-86b5-58bcacfdf570"
      },
      "source": [
        "# Check the directory structure of the tiny data\n",
        "\n",
        "# Install tree first\n",
        "!apt-get -q install tree\n",
        "!tree kinetics400_tiny"
      ],
      "execution_count": 10,
      "outputs": [
        {
          "output_type": "stream",
          "text": [
            "Reading package lists...\n",
            "Building dependency tree...\n",
            "Reading state information...\n",
            "The following package was automatically installed and is no longer required:\n",
            "  libnvidia-common-440\n",
            "Use 'apt autoremove' to remove it.\n",
            "The following NEW packages will be installed:\n",
            "  tree\n",
            "0 upgraded, 1 newly installed, 0 to remove and 33 not upgraded.\n",
            "Need to get 40.7 kB of archives.\n",
            "After this operation, 105 kB of additional disk space will be used.\n",
            "Get:1 http://archive.ubuntu.com/ubuntu bionic/universe amd64 tree amd64 1.7.0-5 [40.7 kB]\n",
            "Fetched 40.7 kB in 1s (46.7 kB/s)\n",
            "Selecting previously unselected package tree.\n",
            "(Reading database ... 144379 files and directories currently installed.)\n",
            "Preparing to unpack .../tree_1.7.0-5_amd64.deb ...\n",
            "Unpacking tree (1.7.0-5) ...\n",
            "Setting up tree (1.7.0-5) ...\n",
            "Processing triggers for man-db (2.8.3-2ubuntu0.1) ...\n",
            "kinetics400_tiny\n",
            "├── kinetics_tiny_train_video.txt\n",
            "├── kinetics_tiny_val_video.txt\n",
            "├── train\n",
            "│   ├── 27_CSXByd3s.mp4\n",
            "│   ├── 34XczvTaRiI.mp4\n",
            "│   ├── A-wiliK50Zw.mp4\n",
            "│   ├── D32_1gwq35E.mp4\n",
            "│   ├── D92m0HsHjcQ.mp4\n",
            "│   ├── DbX8mPslRXg.mp4\n",
            "│   ├── FMlSTTpN3VY.mp4\n",
            "│   ├── h10B9SVE-nk.mp4\n",
            "│   ├── h2YqqUhnR34.mp4\n",
            "│   ├── iRuyZSKhHRg.mp4\n",
            "│   ├── IyfILH9lBRo.mp4\n",
            "│   ├── kFC3KY2bOP8.mp4\n",
            "│   ├── LvcFDgCAXQs.mp4\n",
            "│   ├── O46YA8tI530.mp4\n",
            "│   ├── oMrZaozOvdQ.mp4\n",
            "│   ├── oXy-e_P_cAI.mp4\n",
            "│   ├── P5M-hAts7MQ.mp4\n",
            "│   ├── phDqGd0NKoo.mp4\n",
            "│   ├── PnOe3GZRVX8.mp4\n",
            "│   ├── R8HXQkdgKWA.mp4\n",
            "│   ├── RqnKtCEoEcA.mp4\n",
            "│   ├── soEcZZsBmDs.mp4\n",
            "│   ├── TkkZPZHbAKA.mp4\n",
            "│   ├── T_TMNGzVrDk.mp4\n",
            "│   ├── WaS0qwP46Us.mp4\n",
            "│   ├── Wh_YPQdH1Zg.mp4\n",
            "│   ├── WWP5HZJsg-o.mp4\n",
            "│   ├── xGY2dP0YUjA.mp4\n",
            "│   ├── yLC9CtWU5ws.mp4\n",
            "│   └── ZQV4U2KQ370.mp4\n",
            "└── val\n",
            "    ├── 0pVGiAU6XEA.mp4\n",
            "    ├── AQrbRSnRt8M.mp4\n",
            "    ├── b6Q_b7vgc7Q.mp4\n",
            "    ├── ddvJ6-faICE.mp4\n",
            "    ├── IcLztCtvhb8.mp4\n",
            "    ├── ik4BW3-SCts.mp4\n",
            "    ├── jqRrH30V0k4.mp4\n",
            "    ├── SU_x2LQqSLs.mp4\n",
            "    ├── u4Rm6srmIS8.mp4\n",
            "    └── y5Iu7XkTqV0.mp4\n",
            "\n",
            "2 directories, 42 files\n"
          ],
          "name": "stdout"
        }
      ]
    },
    {
      "cell_type": "code",
      "metadata": {
        "id": "fTdi6dI0hY3g",
        "colab_type": "code",
        "colab": {
          "base_uri": "https://localhost:8080/",
          "height": 527
        },
        "outputId": "e5b69352-4f95-4494-8ebd-2995429aeb80"
      },
      "source": [
        "# After downloading the data, we need to check the annotation format\n",
        "!cat kinetics400_tiny/kinetics_tiny_train_video.txt"
      ],
      "execution_count": 11,
      "outputs": [
        {
          "output_type": "stream",
          "text": [
            "D32_1gwq35E.mp4 0\n",
            "iRuyZSKhHRg.mp4 1\n",
            "oXy-e_P_cAI.mp4 0\n",
            "34XczvTaRiI.mp4 1\n",
            "h2YqqUhnR34.mp4 0\n",
            "O46YA8tI530.mp4 0\n",
            "kFC3KY2bOP8.mp4 1\n",
            "WWP5HZJsg-o.mp4 1\n",
            "phDqGd0NKoo.mp4 1\n",
            "yLC9CtWU5ws.mp4 0\n",
            "27_CSXByd3s.mp4 1\n",
            "IyfILH9lBRo.mp4 1\n",
            "T_TMNGzVrDk.mp4 1\n",
            "TkkZPZHbAKA.mp4 0\n",
            "PnOe3GZRVX8.mp4 1\n",
            "soEcZZsBmDs.mp4 1\n",
            "FMlSTTpN3VY.mp4 1\n",
            "WaS0qwP46Us.mp4 0\n",
            "A-wiliK50Zw.mp4 1\n",
            "oMrZaozOvdQ.mp4 1\n",
            "ZQV4U2KQ370.mp4 0\n",
            "DbX8mPslRXg.mp4 1\n",
            "h10B9SVE-nk.mp4 1\n",
            "P5M-hAts7MQ.mp4 0\n",
            "R8HXQkdgKWA.mp4 0\n",
            "D92m0HsHjcQ.mp4 0\n",
            "RqnKtCEoEcA.mp4 0\n",
            "LvcFDgCAXQs.mp4 0\n",
            "xGY2dP0YUjA.mp4 0\n",
            "Wh_YPQdH1Zg.mp4 0\n"
          ],
          "name": "stdout"
        }
      ]
    },
    {
      "cell_type": "markdown",
      "metadata": {
        "id": "0bq0mxmEi29H",
        "colab_type": "text"
      },
      "source": [
        "According to the format defined in [`VideoDataset`](./datasets/video_dataset.py), each line indicates a sample video with the filepath and label, which are split with a whitespace."
      ]
    },
    {
      "cell_type": "markdown",
      "metadata": {
        "id": "Ht_DGJA9jQar",
        "colab_type": "text"
      },
      "source": [
        "### Modify the config\n",
        "\n",
        "In the next step, we need to modify the config for the training.\n",
        "To accelerate the process, we finetune a recognizer using a pre-trained recognizer."
      ]
    },
    {
      "cell_type": "code",
      "metadata": {
        "id": "LjCcmCKOjktc",
        "colab_type": "code",
        "colab": {}
      },
      "source": [
        "from mmcv import Config\n",
        "cfg = Config.fromfile('./configs/recognition/tsn/tsn_r50_video_1x1x8_100e_kinetics400_rgb.py')"
      ],
      "execution_count": 17,
      "outputs": []
    },
    {
      "cell_type": "markdown",
      "metadata": {
        "id": "tc8YhFFGjp3e",
        "colab_type": "text"
      },
      "source": [
        "Given a config that trains a TSN model on kinetics400-full dataset, we need to modify some values to use it for training TSN on Kinetics400-tiny dataset.\n"
      ]
    },
    {
      "cell_type": "code",
      "metadata": {
        "id": "tlhu9byjjt-K",
        "colab_type": "code",
        "colab": {}
      },
      "source": [
        "from mmcv.runner import set_random_seed\n",
        "\n",
        "# Modify dataset type and path\n",
        "cfg.dataset_type = 'VideoDataset'\n",
        "cfg.data_root = 'kinetics400_tiny/train/'\n",
        "cfg.data_root_val = 'kinetics400_tiny/val/'\n",
        "cfg.ann_file_train = 'kinetics400_tiny/kinetics_tiny_train_video.txt'\n",
        "cfg.ann_file_val = 'kinetics400_tiny/kinetics_tiny_val_video.txt'\n",
        "cfg.ann_file_test = 'kinetics400_tiny/kinetics_tiny_val_video.txt'\n",
        "\n",
        "cfg.data.test.type = 'VideoDataset'\n",
        "cfg.data.test.ann_file = 'kinetics400_tiny/kinetics_tiny_val_video.txt'\n",
        "cfg.data.test.data_prefix = 'kinetics400_tiny/val/'\n",
        "\n",
        "cfg.data.train.type = 'VideoDataset'\n",
        "cfg.data.train.ann_file = 'kinetics400_tiny/kinetics_tiny_train_video.txt'\n",
        "cfg.data.train.data_prefix = 'kinetics400_tiny/train/'\n",
        "\n",
        "cfg.data.val.type = 'VideoDataset'\n",
        "cfg.data.val.ann_file = 'kinetics400_tiny/kinetics_tiny_val_video.txt'\n",
        "cfg.data.val.data_prefix = 'kinetics400_tiny/val/'\n",
        "\n",
        "# Modify num classes of the model in cls_head\n",
        "cfg.model.cls_head.num_classes = 2\n",
        "# We can use the pre-trained TSN model\n",
        "cfg.load_from = './checkpoints/tsn_r50_1x1x3_100e_kinetics400_rgb_20200614-e508be42.pth'\n",
        "\n",
        "# Set up working dir to save files and logs.\n",
        "cfg.work_dir = './tutorial_exps'\n",
        "\n",
        "# The original learning rate (LR) is set for 8-GPU training.\n",
        "# We divide it by 8 since we only use one GPU.\n",
        "cfg.data.videos_per_gpu = cfg.data.videos_per_gpu // 16\n",
        "cfg.optimizer.lr = cfg.optimizer.lr / 8 / 16\n",
        "cfg.total_epochs = 30\n",
        "\n",
        "# We can set the checkpoint saving interval to reduce the storage cost\n",
        "cfg.checkpoint_config.interval = 10\n",
        "# We can set the log print interval to reduce the the times of printing log\n",
        "cfg.log_config.interval = 5\n",
        "\n",
        "# Set seed thus the results are more reproducible\n",
        "cfg.seed = 0\n",
        "set_random_seed(0, deterministic=False)\n",
        "cfg.gpu_ids = range(1)"
      ],
      "execution_count": 18,
      "outputs": []
    },
    {
      "cell_type": "markdown",
      "metadata": {
        "id": "tES-qnZ3k38Z",
        "colab_type": "text"
      },
      "source": [
        "### Train a new recognizer\n",
        "\n",
        "Finally, lets initialize the dataset and recognizer, then train a new recognizer!"
      ]
    },
    {
      "cell_type": "code",
      "metadata": {
        "id": "dDBWkdDRk6oz",
        "colab_type": "code",
        "colab": {
          "base_uri": "https://localhost:8080/",
          "height": 1000
        },
        "outputId": "ad6f0351-34d9-4f80-b725-36567ab3b638"
      },
      "source": [
        "import os.path as osp\n",
        "\n",
        "from mmaction.datasets import build_dataset\n",
        "from mmaction.models import build_model\n",
        "from mmaction.apis import train_model\n",
        "\n",
        "import mmcv\n",
        "\n",
        "# Build the dataset\n",
        "datasets = [build_dataset(cfg.data.train)]\n",
        "\n",
        "# Build the recognizer\n",
        "model = build_model(cfg.model, train_cfg=cfg.train_cfg, test_cfg=cfg.test_cfg)\n",
        "\n",
        "# Create work_dir\n",
        "mmcv.mkdir_or_exist(osp.abspath(cfg.work_dir))\n",
        "train_model(model, datasets, cfg, distributed=False, validate=True)"
      ],
      "execution_count": 19,
      "outputs": [
        {
          "output_type": "stream",
          "text": [
            "Config (path: ./configs/recognition/tsn/tsn_r50_video_1x1x8_100e_kinetics400_rgb.py): {'model': {'type': 'Recognizer2D', 'backbone': {'type': 'ResNet', 'pretrained': 'torchvision://resnet50', 'depth': 50, 'norm_eval': False}, 'cls_head': {'type': 'TSNHead', 'num_classes': 2, 'in_channels': 2048, 'spatial_type': 'avg', 'consensus': {'type': 'AvgConsensus', 'dim': 1}, 'dropout_ratio': 0.4, 'init_std': 0.01}}, 'train_cfg': None, 'test_cfg': {'average_clips': None}, 'dataset_type': 'VideoDataset', 'data_root': 'kinetics400_tiny/train/', 'data_root_val': 'kinetics400_tiny/val/', 'ann_file_train': 'kinetics400_tiny/kinetics_tiny_train_video.txt', 'ann_file_val': 'kinetics400_tiny/kinetics_tiny_val_video.txt', 'ann_file_test': 'kinetics400_tiny/kinetics_tiny_val_video.txt', 'img_norm_cfg': {'mean': [123.675, 116.28, 103.53], 'std': [58.395, 57.12, 57.375], 'to_bgr': False}, 'train_pipeline': [{'type': 'DecordInit'}, {'type': 'SampleFrames', 'clip_len': 1, 'frame_interval': 1, 'num_clips': 8}, {'type': 'DecordDecode'}, {'type': 'MultiScaleCrop', 'input_size': 224, 'scales': (1, 0.875, 0.75, 0.66), 'random_crop': False, 'max_wh_scale_gap': 1}, {'type': 'Resize', 'scale': (224, 224), 'keep_ratio': False}, {'type': 'Flip', 'flip_ratio': 0.5}, {'type': 'Normalize', 'mean': [123.675, 116.28, 103.53], 'std': [58.395, 57.12, 57.375], 'to_bgr': False}, {'type': 'FormatShape', 'input_format': 'NCHW'}, {'type': 'Collect', 'keys': ['imgs', 'label'], 'meta_keys': []}, {'type': 'ToTensor', 'keys': ['imgs', 'label']}], 'val_pipeline': [{'type': 'DecordInit'}, {'type': 'SampleFrames', 'clip_len': 1, 'frame_interval': 1, 'num_clips': 8, 'test_mode': True}, {'type': 'DecordDecode'}, {'type': 'Resize', 'scale': (-1, 256)}, {'type': 'CenterCrop', 'crop_size': 224}, {'type': 'Flip', 'flip_ratio': 0}, {'type': 'Normalize', 'mean': [123.675, 116.28, 103.53], 'std': [58.395, 57.12, 57.375], 'to_bgr': False}, {'type': 'FormatShape', 'input_format': 'NCHW'}, {'type': 'Collect', 'keys': ['imgs', 'label'], 'meta_keys': []}, {'type': 'ToTensor', 'keys': ['imgs']}], 'test_pipeline': [{'type': 'DecordInit'}, {'type': 'SampleFrames', 'clip_len': 1, 'frame_interval': 1, 'num_clips': 25, 'test_mode': True}, {'type': 'DecordDecode'}, {'type': 'Resize', 'scale': (-1, 256)}, {'type': 'TenCrop', 'crop_size': 224}, {'type': 'Flip', 'flip_ratio': 0}, {'type': 'Normalize', 'mean': [123.675, 116.28, 103.53], 'std': [58.395, 57.12, 57.375], 'to_bgr': False}, {'type': 'FormatShape', 'input_format': 'NCHW'}, {'type': 'Collect', 'keys': ['imgs', 'label'], 'meta_keys': []}, {'type': 'ToTensor', 'keys': ['imgs']}], 'data': {'videos_per_gpu': 2, 'workers_per_gpu': 4, 'train': {'type': 'VideoDataset', 'ann_file': 'kinetics400_tiny/kinetics_tiny_train_video.txt', 'data_prefix': 'kinetics400_tiny/train/', 'pipeline': [{'type': 'DecordInit'}, {'type': 'SampleFrames', 'clip_len': 1, 'frame_interval': 1, 'num_clips': 8}, {'type': 'DecordDecode'}, {'type': 'MultiScaleCrop', 'input_size': 224, 'scales': (1, 0.875, 0.75, 0.66), 'random_crop': False, 'max_wh_scale_gap': 1}, {'type': 'Resize', 'scale': (224, 224), 'keep_ratio': False}, {'type': 'Flip', 'flip_ratio': 0.5}, {'type': 'Normalize', 'mean': [123.675, 116.28, 103.53], 'std': [58.395, 57.12, 57.375], 'to_bgr': False}, {'type': 'FormatShape', 'input_format': 'NCHW'}, {'type': 'Collect', 'keys': ['imgs', 'label'], 'meta_keys': []}, {'type': 'ToTensor', 'keys': ['imgs', 'label']}]}, 'val': {'type': 'VideoDataset', 'ann_file': 'kinetics400_tiny/kinetics_tiny_val_video.txt', 'data_prefix': 'kinetics400_tiny/val/', 'pipeline': [{'type': 'DecordInit'}, {'type': 'SampleFrames', 'clip_len': 1, 'frame_interval': 1, 'num_clips': 8, 'test_mode': True}, {'type': 'DecordDecode'}, {'type': 'Resize', 'scale': (-1, 256)}, {'type': 'CenterCrop', 'crop_size': 224}, {'type': 'Flip', 'flip_ratio': 0}, {'type': 'Normalize', 'mean': [123.675, 116.28, 103.53], 'std': [58.395, 57.12, 57.375], 'to_bgr': False}, {'type': 'FormatShape', 'input_format': 'NCHW'}, {'type': 'Collect', 'keys': ['imgs', 'label'], 'meta_keys': []}, {'type': 'ToTensor', 'keys': ['imgs']}]}, 'test': {'type': 'VideoDataset', 'ann_file': 'kinetics400_tiny/kinetics_tiny_val_video.txt', 'data_prefix': 'kinetics400_tiny/val/', 'pipeline': [{'type': 'DecordInit'}, {'type': 'SampleFrames', 'clip_len': 1, 'frame_interval': 1, 'num_clips': 25, 'test_mode': True}, {'type': 'DecordDecode'}, {'type': 'Resize', 'scale': (-1, 256)}, {'type': 'TenCrop', 'crop_size': 224}, {'type': 'Flip', 'flip_ratio': 0}, {'type': 'Normalize', 'mean': [123.675, 116.28, 103.53], 'std': [58.395, 57.12, 57.375], 'to_bgr': False}, {'type': 'FormatShape', 'input_format': 'NCHW'}, {'type': 'Collect', 'keys': ['imgs', 'label'], 'meta_keys': []}, {'type': 'ToTensor', 'keys': ['imgs']}]}}, 'optimizer': {'type': 'SGD', 'lr': 7.8125e-05, 'momentum': 0.9, 'weight_decay': 0.0001}, 'optimizer_config': {'grad_clip': {'max_norm': 40, 'norm_type': 2}}, 'lr_config': {'policy': 'step', 'step': [40, 80]}, 'total_epochs': 30, 'checkpoint_config': {'interval': 10}, 'evaluation': {'interval': 5, 'metrics': ['top_k_accuracy', 'mean_class_accuracy'], 'topk': (1, 5)}, 'log_config': {'interval': 5, 'hooks': [{'type': 'TextLoggerHook'}]}, 'dist_params': {'backend': 'nccl'}, 'log_level': 'INFO', 'work_dir': './tutorial_exps', 'load_from': './checkpoints/tsn_r50_1x1x3_100e_kinetics400_rgb_20200614-e508be42.pth', 'resume_from': None, 'workflow': [('train', 1)], 'seed': 0, 'gpu_ids': range(0, 1)}\n"
          ],
          "name": "stdout"
        },
        {
          "output_type": "stream",
          "text": [
            "2020-07-12 06:28:45,761 - mmaction - INFO - These parameters in pretrained checkpoint are not loaded: {'fc.weight', 'fc.bias'}\n",
            "2020-07-12 06:28:45,808 - mmaction - INFO - load checkpoint from ./checkpoints/tsn_r50_1x1x3_100e_kinetics400_rgb_20200614-e508be42.pth\n",
            "2020-07-12 06:28:45,911 - mmaction - WARNING - The model and loaded state dict do not match exactly\n",
            "\n",
            "size mismatch for cls_head.fc_cls.weight: copying a param with shape torch.Size([400, 2048]) from checkpoint, the shape in current model is torch.Size([2, 2048]).\n",
            "size mismatch for cls_head.fc_cls.bias: copying a param with shape torch.Size([400]) from checkpoint, the shape in current model is torch.Size([2]).\n",
            "2020-07-12 06:28:45,915 - mmaction - INFO - Start running, host: root@ec77c2666f1a, work_dir: /content/mmaction2/tutorial_exps\n",
            "2020-07-12 06:28:45,915 - mmaction - INFO - workflow: [('train', 1)], max: 30 epochs\n",
            "2020-07-12 06:28:51,422 - mmaction - INFO - Epoch [1][5/15]\tlr: 7.813e-05, eta: 0:08:09, time: 1.100, data_time: 0.639, memory: 2918, top1_acc: 0.3000, top5_acc: 1.0000, loss_cls: 0.7491, loss: 0.7491, grad_norm: 13.8901\n",
            "2020-07-12 06:28:53,345 - mmaction - INFO - Epoch [1][10/15]\tlr: 7.813e-05, eta: 0:05:26, time: 0.384, data_time: 0.003, memory: 2918, top1_acc: 0.3000, top5_acc: 1.0000, loss_cls: 0.7280, loss: 0.7280, grad_norm: 14.4594\n",
            "2020-07-12 06:28:55,177 - mmaction - INFO - Epoch [1][15/15]\tlr: 7.813e-05, eta: 0:04:28, time: 0.366, data_time: 0.001, memory: 2918, top1_acc: 0.5000, top5_acc: 1.0000, loss_cls: 0.7229, loss: 0.7229, grad_norm: 12.4575\n",
            "2020-07-12 06:29:00,156 - mmaction - INFO - Epoch [2][5/15]\tlr: 7.813e-05, eta: 0:05:04, time: 0.982, data_time: 0.557, memory: 2918, top1_acc: 0.5000, top5_acc: 1.0000, loss_cls: 0.6892, loss: 0.6892, grad_norm: 11.9175\n",
            "2020-07-12 06:29:02,272 - mmaction - INFO - Epoch [2][10/15]\tlr: 7.813e-05, eta: 0:04:36, time: 0.423, data_time: 0.004, memory: 2918, top1_acc: 0.6000, top5_acc: 1.0000, loss_cls: 0.6605, loss: 0.6605, grad_norm: 10.7817\n",
            "2020-07-12 06:29:04,114 - mmaction - INFO - Epoch [2][15/15]\tlr: 7.813e-05, eta: 0:04:13, time: 0.368, data_time: 0.001, memory: 2918, top1_acc: 0.3000, top5_acc: 1.0000, loss_cls: 0.7331, loss: 0.7331, grad_norm: 10.8132\n",
            "2020-07-12 06:29:09,663 - mmaction - INFO - Epoch [3][5/15]\tlr: 7.813e-05, eta: 0:04:39, time: 1.093, data_time: 0.686, memory: 2918, top1_acc: 0.5000, top5_acc: 1.0000, loss_cls: 0.6807, loss: 0.6807, grad_norm: 10.0652\n",
            "2020-07-12 06:29:11,617 - mmaction - INFO - Epoch [3][10/15]\tlr: 7.813e-05, eta: 0:04:21, time: 0.393, data_time: 0.005, memory: 2918, top1_acc: 0.3000, top5_acc: 1.0000, loss_cls: 0.7592, loss: 0.7592, grad_norm: 14.8646\n",
            "2020-07-12 06:29:13,462 - mmaction - INFO - Epoch [3][15/15]\tlr: 7.813e-05, eta: 0:04:06, time: 0.369, data_time: 0.001, memory: 2918, top1_acc: 0.4000, top5_acc: 1.0000, loss_cls: 0.7021, loss: 0.7021, grad_norm: 12.9772\n",
            "2020-07-12 06:29:18,498 - mmaction - INFO - Epoch [4][5/15]\tlr: 7.813e-05, eta: 0:04:18, time: 0.993, data_time: 0.571, memory: 2918, top1_acc: 0.6000, top5_acc: 1.0000, loss_cls: 0.6606, loss: 0.6606, grad_norm: 13.1705\n",
            "2020-07-12 06:29:20,591 - mmaction - INFO - Epoch [4][10/15]\tlr: 7.813e-05, eta: 0:04:07, time: 0.418, data_time: 0.003, memory: 2918, top1_acc: 0.6000, top5_acc: 1.0000, loss_cls: 0.7538, loss: 0.7538, grad_norm: 11.6492\n",
            "2020-07-12 06:29:22,449 - mmaction - INFO - Epoch [4][15/15]\tlr: 7.813e-05, eta: 0:03:56, time: 0.372, data_time: 0.001, memory: 2918, top1_acc: 0.4000, top5_acc: 1.0000, loss_cls: 0.7140, loss: 0.7140, grad_norm: 12.4662\n",
            "2020-07-12 06:29:27,984 - mmaction - INFO - Epoch [5][5/15]\tlr: 7.813e-05, eta: 0:04:07, time: 1.090, data_time: 0.671, memory: 2918, top1_acc: 0.6000, top5_acc: 1.0000, loss_cls: 0.6805, loss: 0.6805, grad_norm: 12.6542\n",
            "2020-07-12 06:29:29,974 - mmaction - INFO - Epoch [5][10/15]\tlr: 7.813e-05, eta: 0:03:57, time: 0.400, data_time: 0.004, memory: 2918, top1_acc: 0.8000, top5_acc: 1.0000, loss_cls: 0.6212, loss: 0.6212, grad_norm: 9.3204\n",
            "2020-07-12 06:29:31,830 - mmaction - INFO - Epoch [5][15/15]\tlr: 7.813e-05, eta: 0:03:48, time: 0.371, data_time: 0.001, memory: 2918, top1_acc: 0.6000, top5_acc: 1.0000, loss_cls: 0.6682, loss: 0.6682, grad_norm: 9.8024\n"
          ],
          "name": "stderr"
        },
        {
          "output_type": "stream",
          "text": [
            "[>>>>>>>>>>>>>>>>>>>>>>>>>>>>>>>>>] 10/10, 4.4 task/s, elapsed: 2s, ETA:     0s"
          ],
          "name": "stdout"
        },
        {
          "output_type": "stream",
          "text": [
            "2020-07-12 06:29:34,236 - mmaction - INFO - Evaluating top_k_accuracy...\n",
            "2020-07-12 06:29:34,238 - mmaction - INFO - \n",
            "top1_acc\t0.7000\n",
            "top5_acc\t1.0000\n",
            "2020-07-12 06:29:34,239 - mmaction - INFO - Evaluating mean_class_accuracy...\n",
            "2020-07-12 06:29:34,243 - mmaction - INFO - \n",
            "mean_acc\t0.7000\n",
            "2020-07-12 06:29:34,244 - mmaction - INFO - Now best checkpoint is epoch_5.pth\n",
            "2020-07-12 06:29:34,246 - mmaction - INFO - Epoch [5][15/15]\tlr: 7.813e-05, top1_acc: 0.7000, top5_acc: 1.0000, mean_class_accuracy: 0.7000\n",
            "2020-07-12 06:29:39,685 - mmaction - INFO - Epoch [6][5/15]\tlr: 7.813e-05, eta: 0:03:56, time: 1.085, data_time: 0.656, memory: 2918, top1_acc: 0.7000, top5_acc: 1.0000, loss_cls: 0.6653, loss: 0.6653, grad_norm: 9.9450\n",
            "2020-07-12 06:29:41,676 - mmaction - INFO - Epoch [6][10/15]\tlr: 7.813e-05, eta: 0:03:47, time: 0.399, data_time: 0.006, memory: 2918, top1_acc: 0.6000, top5_acc: 1.0000, loss_cls: 0.6991, loss: 0.6991, grad_norm: 11.1495\n",
            "2020-07-12 06:29:43,541 - mmaction - INFO - Epoch [6][15/15]\tlr: 7.813e-05, eta: 0:03:39, time: 0.373, data_time: 0.001, memory: 2918, top1_acc: 0.5000, top5_acc: 1.0000, loss_cls: 0.7254, loss: 0.7254, grad_norm: 12.3332\n",
            "2020-07-12 06:29:48,769 - mmaction - INFO - Epoch [7][5/15]\tlr: 7.813e-05, eta: 0:03:44, time: 1.030, data_time: 0.586, memory: 2918, top1_acc: 0.6000, top5_acc: 1.0000, loss_cls: 0.6232, loss: 0.6232, grad_norm: 9.6874\n",
            "2020-07-12 06:29:50,800 - mmaction - INFO - Epoch [7][10/15]\tlr: 7.813e-05, eta: 0:03:37, time: 0.406, data_time: 0.004, memory: 2918, top1_acc: 0.7000, top5_acc: 1.0000, loss_cls: 0.6203, loss: 0.6203, grad_norm: 9.6751\n",
            "2020-07-12 06:29:52,670 - mmaction - INFO - Epoch [7][15/15]\tlr: 7.813e-05, eta: 0:03:30, time: 0.374, data_time: 0.001, memory: 2918, top1_acc: 0.5000, top5_acc: 1.0000, loss_cls: 0.7042, loss: 0.7042, grad_norm: 13.0494\n",
            "2020-07-12 06:29:58,024 - mmaction - INFO - Epoch [8][5/15]\tlr: 7.813e-05, eta: 0:03:33, time: 1.055, data_time: 0.636, memory: 2918, top1_acc: 0.7000, top5_acc: 1.0000, loss_cls: 0.6150, loss: 0.6150, grad_norm: 11.2687\n",
            "2020-07-12 06:30:00,079 - mmaction - INFO - Epoch [8][10/15]\tlr: 7.813e-05, eta: 0:03:27, time: 0.411, data_time: 0.003, memory: 2918, top1_acc: 0.4000, top5_acc: 1.0000, loss_cls: 0.7278, loss: 0.7278, grad_norm: 13.2464\n",
            "2020-07-12 06:30:01,962 - mmaction - INFO - Epoch [8][15/15]\tlr: 7.813e-05, eta: 0:03:21, time: 0.377, data_time: 0.001, memory: 2918, top1_acc: 0.5000, top5_acc: 1.0000, loss_cls: 0.6705, loss: 0.6705, grad_norm: 12.0565\n",
            "2020-07-12 06:30:07,367 - mmaction - INFO - Epoch [9][5/15]\tlr: 7.813e-05, eta: 0:03:24, time: 1.067, data_time: 0.644, memory: 2918, top1_acc: 0.9000, top5_acc: 1.0000, loss_cls: 0.6205, loss: 0.6205, grad_norm: 11.3947\n",
            "2020-07-12 06:30:09,430 - mmaction - INFO - Epoch [9][10/15]\tlr: 7.813e-05, eta: 0:03:18, time: 0.412, data_time: 0.003, memory: 2918, top1_acc: 0.7000, top5_acc: 1.0000, loss_cls: 0.6074, loss: 0.6074, grad_norm: 11.1642\n",
            "2020-07-12 06:30:11,310 - mmaction - INFO - Epoch [9][15/15]\tlr: 7.813e-05, eta: 0:03:12, time: 0.376, data_time: 0.001, memory: 2918, top1_acc: 0.5000, top5_acc: 1.0000, loss_cls: 0.6393, loss: 0.6393, grad_norm: 10.6351\n",
            "2020-07-12 06:30:16,936 - mmaction - INFO - Epoch [10][5/15]\tlr: 7.813e-05, eta: 0:03:14, time: 1.108, data_time: 0.684, memory: 2918, top1_acc: 0.8000, top5_acc: 1.0000, loss_cls: 0.5916, loss: 0.5916, grad_norm: 11.4968\n",
            "2020-07-12 06:30:18,952 - mmaction - INFO - Epoch [10][10/15]\tlr: 7.813e-05, eta: 0:03:09, time: 0.406, data_time: 0.007, memory: 2918, top1_acc: 0.6000, top5_acc: 1.0000, loss_cls: 0.6571, loss: 0.6571, grad_norm: 10.5852\n",
            "2020-07-12 06:30:20,844 - mmaction - INFO - Epoch [10][15/15]\tlr: 7.813e-05, eta: 0:03:03, time: 0.378, data_time: 0.001, memory: 2918, top1_acc: 0.7000, top5_acc: 1.0000, loss_cls: 0.6053, loss: 0.6053, grad_norm: 11.3387\n",
            "2020-07-12 06:30:20,913 - mmaction - INFO - Saving checkpoint at 10 epochs\n"
          ],
          "name": "stderr"
        },
        {
          "output_type": "stream",
          "text": [
            "[>>>>>>>>>>>>>>>>>>>>>>>>>>>>>>>>>] 10/10, 4.4 task/s, elapsed: 2s, ETA:     0s"
          ],
          "name": "stdout"
        },
        {
          "output_type": "stream",
          "text": [
            "2020-07-12 06:30:23,557 - mmaction - INFO - Evaluating top_k_accuracy...\n",
            "2020-07-12 06:30:23,559 - mmaction - INFO - \n",
            "top1_acc\t0.7000\n",
            "top5_acc\t1.0000\n",
            "2020-07-12 06:30:23,563 - mmaction - INFO - Evaluating mean_class_accuracy...\n",
            "2020-07-12 06:30:23,566 - mmaction - INFO - \n",
            "mean_acc\t0.7000\n",
            "2020-07-12 06:30:23,571 - mmaction - INFO - Epoch [10][15/15]\tlr: 7.813e-05, top1_acc: 0.7000, top5_acc: 1.0000, mean_class_accuracy: 0.7000\n",
            "2020-07-12 06:30:28,727 - mmaction - INFO - Epoch [11][5/15]\tlr: 7.813e-05, eta: 0:03:04, time: 1.028, data_time: 0.613, memory: 2918, top1_acc: 0.8000, top5_acc: 1.0000, loss_cls: 0.5837, loss: 0.5837, grad_norm: 10.9204\n",
            "2020-07-12 06:30:30,814 - mmaction - INFO - Epoch [11][10/15]\tlr: 7.813e-05, eta: 0:02:59, time: 0.420, data_time: 0.005, memory: 2918, top1_acc: 0.8000, top5_acc: 1.0000, loss_cls: 0.5899, loss: 0.5899, grad_norm: 10.1089\n",
            "2020-07-12 06:30:32,709 - mmaction - INFO - Epoch [11][15/15]\tlr: 7.813e-05, eta: 0:02:54, time: 0.379, data_time: 0.001, memory: 2918, top1_acc: 0.7000, top5_acc: 1.0000, loss_cls: 0.6200, loss: 0.6200, grad_norm: 11.6282\n",
            "2020-07-12 06:30:38,097 - mmaction - INFO - Epoch [12][5/15]\tlr: 7.813e-05, eta: 0:02:55, time: 1.063, data_time: 0.611, memory: 2918, top1_acc: 0.9000, top5_acc: 1.0000, loss_cls: 0.6029, loss: 0.6029, grad_norm: 9.5244\n",
            "2020-07-12 06:30:40,148 - mmaction - INFO - Epoch [12][10/15]\tlr: 7.813e-05, eta: 0:02:50, time: 0.410, data_time: 0.003, memory: 2918, top1_acc: 0.8000, top5_acc: 1.0000, loss_cls: 0.5755, loss: 0.5755, grad_norm: 10.7763\n",
            "2020-07-12 06:30:42,044 - mmaction - INFO - Epoch [12][15/15]\tlr: 7.813e-05, eta: 0:02:45, time: 0.379, data_time: 0.001, memory: 2918, top1_acc: 0.6000, top5_acc: 1.0000, loss_cls: 0.6584, loss: 0.6584, grad_norm: 12.6969\n",
            "2020-07-12 06:30:47,486 - mmaction - INFO - Epoch [13][5/15]\tlr: 7.813e-05, eta: 0:02:45, time: 1.074, data_time: 0.653, memory: 2918, top1_acc: 0.7000, top5_acc: 1.0000, loss_cls: 0.6280, loss: 0.6280, grad_norm: 11.5691\n",
            "2020-07-12 06:30:49,523 - mmaction - INFO - Epoch [13][10/15]\tlr: 7.813e-05, eta: 0:02:41, time: 0.407, data_time: 0.005, memory: 2918, top1_acc: 0.7000, top5_acc: 1.0000, loss_cls: 0.5956, loss: 0.5956, grad_norm: 10.3548\n",
            "2020-07-12 06:30:51,414 - mmaction - INFO - Epoch [13][15/15]\tlr: 7.813e-05, eta: 0:02:36, time: 0.378, data_time: 0.001, memory: 2918, top1_acc: 0.7000, top5_acc: 1.0000, loss_cls: 0.6297, loss: 0.6297, grad_norm: 11.6300\n",
            "2020-07-12 06:30:56,840 - mmaction - INFO - Epoch [14][5/15]\tlr: 7.813e-05, eta: 0:02:36, time: 1.070, data_time: 0.645, memory: 2918, top1_acc: 0.4000, top5_acc: 1.0000, loss_cls: 0.6995, loss: 0.6995, grad_norm: 13.3825\n",
            "2020-07-12 06:30:58,850 - mmaction - INFO - Epoch [14][10/15]\tlr: 7.813e-05, eta: 0:02:31, time: 0.404, data_time: 0.005, memory: 2918, top1_acc: 0.8000, top5_acc: 1.0000, loss_cls: 0.5281, loss: 0.5281, grad_norm: 8.8073\n",
            "2020-07-12 06:31:00,742 - mmaction - INFO - Epoch [14][15/15]\tlr: 7.813e-05, eta: 0:02:27, time: 0.378, data_time: 0.001, memory: 2918, top1_acc: 0.7000, top5_acc: 1.0000, loss_cls: 0.5881, loss: 0.5881, grad_norm: 11.0054\n",
            "2020-07-12 06:31:06,136 - mmaction - INFO - Epoch [15][5/15]\tlr: 7.813e-05, eta: 0:02:26, time: 1.059, data_time: 0.634, memory: 2918, top1_acc: 0.7000, top5_acc: 1.0000, loss_cls: 0.6302, loss: 0.6302, grad_norm: 11.0318\n",
            "2020-07-12 06:31:08,181 - mmaction - INFO - Epoch [15][10/15]\tlr: 7.813e-05, eta: 0:02:22, time: 0.409, data_time: 0.003, memory: 2918, top1_acc: 0.6000, top5_acc: 1.0000, loss_cls: 0.6118, loss: 0.6118, grad_norm: 10.9289\n",
            "2020-07-12 06:31:10,081 - mmaction - INFO - Epoch [15][15/15]\tlr: 7.813e-05, eta: 0:02:18, time: 0.380, data_time: 0.001, memory: 2918, top1_acc: 0.5000, top5_acc: 1.0000, loss_cls: 0.6303, loss: 0.6303, grad_norm: 11.0917\n"
          ],
          "name": "stderr"
        },
        {
          "output_type": "stream",
          "text": [
            "[>>>>>>>>>>>>>>>>>>>>>>>>>>>>>>>>>] 10/10, 4.3 task/s, elapsed: 2s, ETA:     0s"
          ],
          "name": "stdout"
        },
        {
          "output_type": "stream",
          "text": [
            "2020-07-12 06:31:12,525 - mmaction - INFO - Evaluating top_k_accuracy...\n",
            "2020-07-12 06:31:12,526 - mmaction - INFO - \n",
            "top1_acc\t0.8000\n",
            "top5_acc\t1.0000\n",
            "2020-07-12 06:31:12,527 - mmaction - INFO - Evaluating mean_class_accuracy...\n",
            "2020-07-12 06:31:12,532 - mmaction - INFO - \n",
            "mean_acc\t0.8000\n",
            "2020-07-12 06:31:12,533 - mmaction - INFO - Now best checkpoint is epoch_15.pth\n",
            "2020-07-12 06:31:12,536 - mmaction - INFO - Epoch [15][15/15]\tlr: 7.813e-05, top1_acc: 0.8000, top5_acc: 1.0000, mean_class_accuracy: 0.8000\n",
            "2020-07-12 06:31:17,438 - mmaction - INFO - Epoch [16][5/15]\tlr: 7.813e-05, eta: 0:02:16, time: 0.978, data_time: 0.559, memory: 2918, top1_acc: 0.6000, top5_acc: 1.0000, loss_cls: 0.6754, loss: 0.6754, grad_norm: 12.5747\n",
            "2020-07-12 06:31:19,561 - mmaction - INFO - Epoch [16][10/15]\tlr: 7.813e-05, eta: 0:02:12, time: 0.426, data_time: 0.006, memory: 2918, top1_acc: 0.7000, top5_acc: 1.0000, loss_cls: 0.6174, loss: 0.6174, grad_norm: 11.5092\n",
            "2020-07-12 06:31:21,458 - mmaction - INFO - Epoch [16][15/15]\tlr: 7.813e-05, eta: 0:02:08, time: 0.379, data_time: 0.003, memory: 2918, top1_acc: 0.8000, top5_acc: 1.0000, loss_cls: 0.5610, loss: 0.5610, grad_norm: 10.2322\n",
            "2020-07-12 06:31:27,115 - mmaction - INFO - Epoch [17][5/15]\tlr: 7.813e-05, eta: 0:02:07, time: 1.117, data_time: 0.672, memory: 2918, top1_acc: 0.8000, top5_acc: 1.0000, loss_cls: 0.5914, loss: 0.5914, grad_norm: 11.2074\n",
            "2020-07-12 06:31:29,097 - mmaction - INFO - Epoch [17][10/15]\tlr: 7.813e-05, eta: 0:02:03, time: 0.396, data_time: 0.004, memory: 2918, top1_acc: 0.8000, top5_acc: 1.0000, loss_cls: 0.4812, loss: 0.4812, grad_norm: 9.7090\n",
            "2020-07-12 06:31:30,987 - mmaction - INFO - Epoch [17][15/15]\tlr: 7.813e-05, eta: 0:01:59, time: 0.378, data_time: 0.001, memory: 2918, top1_acc: 0.4000, top5_acc: 1.0000, loss_cls: 0.6709, loss: 0.6709, grad_norm: 12.4250\n",
            "2020-07-12 06:31:36,197 - mmaction - INFO - Epoch [18][5/15]\tlr: 7.813e-05, eta: 0:01:58, time: 1.027, data_time: 0.608, memory: 2918, top1_acc: 0.8000, top5_acc: 1.0000, loss_cls: 0.5897, loss: 0.5897, grad_norm: 10.4549\n",
            "2020-07-12 06:31:38,223 - mmaction - INFO - Epoch [18][10/15]\tlr: 7.813e-05, eta: 0:01:54, time: 0.405, data_time: 0.004, memory: 2918, top1_acc: 0.7000, top5_acc: 1.0000, loss_cls: 0.5175, loss: 0.5175, grad_norm: 9.7352\n",
            "2020-07-12 06:31:40,124 - mmaction - INFO - Epoch [18][15/15]\tlr: 7.813e-05, eta: 0:01:50, time: 0.380, data_time: 0.001, memory: 2918, top1_acc: 0.6000, top5_acc: 1.0000, loss_cls: 0.6237, loss: 0.6237, grad_norm: 11.0510\n",
            "2020-07-12 06:31:45,307 - mmaction - INFO - Epoch [19][5/15]\tlr: 7.813e-05, eta: 0:01:48, time: 1.021, data_time: 0.602, memory: 2918, top1_acc: 0.7000, top5_acc: 1.0000, loss_cls: 0.5916, loss: 0.5916, grad_norm: 11.2827\n",
            "2020-07-12 06:31:47,374 - mmaction - INFO - Epoch [19][10/15]\tlr: 7.813e-05, eta: 0:01:44, time: 0.414, data_time: 0.004, memory: 2918, top1_acc: 0.7000, top5_acc: 1.0000, loss_cls: 0.6682, loss: 0.6682, grad_norm: 13.1381\n",
            "2020-07-12 06:31:49,262 - mmaction - INFO - Epoch [19][15/15]\tlr: 7.813e-05, eta: 0:01:41, time: 0.378, data_time: 0.001, memory: 2918, top1_acc: 1.0000, top5_acc: 1.0000, loss_cls: 0.3971, loss: 0.3971, grad_norm: 7.2933\n",
            "2020-07-12 06:31:54,431 - mmaction - INFO - Epoch [20][5/15]\tlr: 7.813e-05, eta: 0:01:39, time: 1.017, data_time: 0.588, memory: 2918, top1_acc: 0.8000, top5_acc: 1.0000, loss_cls: 0.5094, loss: 0.5094, grad_norm: 9.5902\n",
            "2020-07-12 06:31:56,485 - mmaction - INFO - Epoch [20][10/15]\tlr: 7.813e-05, eta: 0:01:35, time: 0.410, data_time: 0.004, memory: 2918, top1_acc: 0.4000, top5_acc: 1.0000, loss_cls: 0.6563, loss: 0.6563, grad_norm: 13.1168\n",
            "2020-07-12 06:31:58,377 - mmaction - INFO - Epoch [20][15/15]\tlr: 7.813e-05, eta: 0:01:31, time: 0.378, data_time: 0.001, memory: 2918, top1_acc: 0.7000, top5_acc: 1.0000, loss_cls: 0.6187, loss: 0.6187, grad_norm: 11.7306\n",
            "2020-07-12 06:31:58,450 - mmaction - INFO - Saving checkpoint at 20 epochs\n"
          ],
          "name": "stderr"
        },
        {
          "output_type": "stream",
          "text": [
            "[>>>>>>>>>>>>>>>>>>>>>>>>>>>>>>>>>] 10/10, 4.5 task/s, elapsed: 2s, ETA:     0s"
          ],
          "name": "stdout"
        },
        {
          "output_type": "stream",
          "text": [
            "2020-07-12 06:32:01,071 - mmaction - INFO - Evaluating top_k_accuracy...\n",
            "2020-07-12 06:32:01,072 - mmaction - INFO - \n",
            "top1_acc\t1.0000\n",
            "top5_acc\t1.0000\n",
            "2020-07-12 06:32:01,075 - mmaction - INFO - Evaluating mean_class_accuracy...\n",
            "2020-07-12 06:32:01,077 - mmaction - INFO - \n",
            "mean_acc\t1.0000\n",
            "2020-07-12 06:32:01,080 - mmaction - INFO - Now best checkpoint is epoch_20.pth\n",
            "2020-07-12 06:32:01,083 - mmaction - INFO - Epoch [20][15/15]\tlr: 7.813e-05, top1_acc: 1.0000, top5_acc: 1.0000, mean_class_accuracy: 1.0000\n",
            "2020-07-12 06:32:06,592 - mmaction - INFO - Epoch [21][5/15]\tlr: 7.813e-05, eta: 0:01:29, time: 1.101, data_time: 0.682, memory: 2918, top1_acc: 0.9000, top5_acc: 1.0000, loss_cls: 0.5018, loss: 0.5018, grad_norm: 9.8059\n",
            "2020-07-12 06:32:08,608 - mmaction - INFO - Epoch [21][10/15]\tlr: 7.813e-05, eta: 0:01:26, time: 0.403, data_time: 0.004, memory: 2918, top1_acc: 0.9000, top5_acc: 1.0000, loss_cls: 0.4527, loss: 0.4527, grad_norm: 8.2144\n",
            "2020-07-12 06:32:10,493 - mmaction - INFO - Epoch [21][15/15]\tlr: 7.813e-05, eta: 0:01:22, time: 0.377, data_time: 0.001, memory: 2918, top1_acc: 0.5000, top5_acc: 1.0000, loss_cls: 0.6985, loss: 0.6985, grad_norm: 13.7800\n",
            "2020-07-12 06:32:16,162 - mmaction - INFO - Epoch [22][5/15]\tlr: 7.813e-05, eta: 0:01:20, time: 1.120, data_time: 0.672, memory: 2918, top1_acc: 0.8000, top5_acc: 1.0000, loss_cls: 0.5893, loss: 0.5893, grad_norm: 11.4349\n",
            "2020-07-12 06:32:18,136 - mmaction - INFO - Epoch [22][10/15]\tlr: 7.813e-05, eta: 0:01:17, time: 0.394, data_time: 0.002, memory: 2918, top1_acc: 0.6000, top5_acc: 1.0000, loss_cls: 0.6325, loss: 0.6325, grad_norm: 13.0044\n",
            "2020-07-12 06:32:20,021 - mmaction - INFO - Epoch [22][15/15]\tlr: 7.813e-05, eta: 0:01:13, time: 0.377, data_time: 0.001, memory: 2918, top1_acc: 0.7000, top5_acc: 1.0000, loss_cls: 0.5612, loss: 0.5612, grad_norm: 10.7138\n",
            "2020-07-12 06:32:25,280 - mmaction - INFO - Epoch [23][5/15]\tlr: 7.813e-05, eta: 0:01:11, time: 1.037, data_time: 0.616, memory: 2918, top1_acc: 0.9000, top5_acc: 1.0000, loss_cls: 0.4701, loss: 0.4701, grad_norm: 9.1210\n",
            "2020-07-12 06:32:27,339 - mmaction - INFO - Epoch [23][10/15]\tlr: 7.813e-05, eta: 0:01:07, time: 0.413, data_time: 0.005, memory: 2918, top1_acc: 0.9000, top5_acc: 1.0000, loss_cls: 0.4229, loss: 0.4229, grad_norm: 8.2548\n",
            "2020-07-12 06:32:29,233 - mmaction - INFO - Epoch [23][15/15]\tlr: 7.813e-05, eta: 0:01:04, time: 0.379, data_time: 0.001, memory: 2918, top1_acc: 1.0000, top5_acc: 1.0000, loss_cls: 0.3930, loss: 0.3930, grad_norm: 7.7212\n",
            "2020-07-12 06:32:34,806 - mmaction - INFO - Epoch [24][5/15]\tlr: 7.813e-05, eta: 0:01:02, time: 1.100, data_time: 0.679, memory: 2918, top1_acc: 0.9000, top5_acc: 1.0000, loss_cls: 0.4376, loss: 0.4376, grad_norm: 8.2785\n",
            "2020-07-12 06:32:36,766 - mmaction - INFO - Epoch [24][10/15]\tlr: 7.813e-05, eta: 0:00:58, time: 0.392, data_time: 0.002, memory: 2918, top1_acc: 0.8000, top5_acc: 1.0000, loss_cls: 0.5484, loss: 0.5484, grad_norm: 10.9951\n",
            "2020-07-12 06:32:38,646 - mmaction - INFO - Epoch [24][15/15]\tlr: 7.813e-05, eta: 0:00:55, time: 0.376, data_time: 0.001, memory: 2918, top1_acc: 0.8000, top5_acc: 1.0000, loss_cls: 0.4375, loss: 0.4375, grad_norm: 8.6699\n",
            "2020-07-12 06:32:43,816 - mmaction - INFO - Epoch [25][5/15]\tlr: 7.813e-05, eta: 0:00:52, time: 1.018, data_time: 0.597, memory: 2918, top1_acc: 0.8000, top5_acc: 1.0000, loss_cls: 0.4473, loss: 0.4473, grad_norm: 8.9306\n",
            "2020-07-12 06:32:45,816 - mmaction - INFO - Epoch [25][10/15]\tlr: 7.813e-05, eta: 0:00:49, time: 0.401, data_time: 0.007, memory: 2918, top1_acc: 0.8000, top5_acc: 1.0000, loss_cls: 0.4594, loss: 0.4594, grad_norm: 9.4407\n",
            "2020-07-12 06:32:47,696 - mmaction - INFO - Epoch [25][15/15]\tlr: 7.813e-05, eta: 0:00:45, time: 0.376, data_time: 0.001, memory: 2918, top1_acc: 0.8000, top5_acc: 1.0000, loss_cls: 0.4713, loss: 0.4713, grad_norm: 9.3610\n"
          ],
          "name": "stderr"
        },
        {
          "output_type": "stream",
          "text": [
            "[>>>>>>>>>>>>>>>>>>>>>>>>>>>>>>>>>] 10/10, 4.5 task/s, elapsed: 2s, ETA:     0s"
          ],
          "name": "stdout"
        },
        {
          "output_type": "stream",
          "text": [
            "2020-07-12 06:32:50,062 - mmaction - INFO - Evaluating top_k_accuracy...\n",
            "2020-07-12 06:32:50,064 - mmaction - INFO - \n",
            "top1_acc\t1.0000\n",
            "top5_acc\t1.0000\n",
            "2020-07-12 06:32:50,068 - mmaction - INFO - Evaluating mean_class_accuracy...\n",
            "2020-07-12 06:32:50,071 - mmaction - INFO - \n",
            "mean_acc\t1.0000\n",
            "2020-07-12 06:32:50,072 - mmaction - INFO - Epoch [25][15/15]\tlr: 7.813e-05, top1_acc: 1.0000, top5_acc: 1.0000, mean_class_accuracy: 1.0000\n",
            "2020-07-12 06:32:55,581 - mmaction - INFO - Epoch [26][5/15]\tlr: 7.813e-05, eta: 0:00:43, time: 1.100, data_time: 0.685, memory: 2918, top1_acc: 0.9000, top5_acc: 1.0000, loss_cls: 0.3789, loss: 0.3789, grad_norm: 8.0383\n",
            "2020-07-12 06:32:57,568 - mmaction - INFO - Epoch [26][10/15]\tlr: 7.813e-05, eta: 0:00:40, time: 0.398, data_time: 0.005, memory: 2918, top1_acc: 0.6000, top5_acc: 1.0000, loss_cls: 0.6657, loss: 0.6657, grad_norm: 13.0251\n",
            "2020-07-12 06:32:59,450 - mmaction - INFO - Epoch [26][15/15]\tlr: 7.813e-05, eta: 0:00:36, time: 0.377, data_time: 0.001, memory: 2918, top1_acc: 1.0000, top5_acc: 1.0000, loss_cls: 0.2566, loss: 0.2566, grad_norm: 5.2536\n",
            "2020-07-12 06:33:05,272 - mmaction - INFO - Epoch [27][5/15]\tlr: 7.813e-05, eta: 0:00:34, time: 1.149, data_time: 0.722, memory: 2918, top1_acc: 0.9000, top5_acc: 1.0000, loss_cls: 0.4249, loss: 0.4249, grad_norm: 8.6284\n",
            "2020-07-12 06:33:07,230 - mmaction - INFO - Epoch [27][10/15]\tlr: 7.813e-05, eta: 0:00:30, time: 0.391, data_time: 0.005, memory: 2918, top1_acc: 0.8000, top5_acc: 1.0000, loss_cls: 0.4177, loss: 0.4177, grad_norm: 8.6500\n",
            "2020-07-12 06:33:09,105 - mmaction - INFO - Epoch [27][15/15]\tlr: 7.813e-05, eta: 0:00:27, time: 0.375, data_time: 0.001, memory: 2918, top1_acc: 0.7000, top5_acc: 1.0000, loss_cls: 0.5935, loss: 0.5935, grad_norm: 11.5558\n",
            "2020-07-12 06:33:14,297 - mmaction - INFO - Epoch [28][5/15]\tlr: 7.813e-05, eta: 0:00:24, time: 1.023, data_time: 0.600, memory: 2918, top1_acc: 0.8000, top5_acc: 1.0000, loss_cls: 0.6206, loss: 0.6206, grad_norm: 12.5904\n",
            "2020-07-12 06:33:16,325 - mmaction - INFO - Epoch [28][10/15]\tlr: 7.813e-05, eta: 0:00:21, time: 0.407, data_time: 0.007, memory: 2918, top1_acc: 0.9000, top5_acc: 1.0000, loss_cls: 0.3572, loss: 0.3572, grad_norm: 7.2616\n",
            "2020-07-12 06:33:18,200 - mmaction - INFO - Epoch [28][15/15]\tlr: 7.813e-05, eta: 0:00:18, time: 0.375, data_time: 0.001, memory: 2918, top1_acc: 0.7000, top5_acc: 1.0000, loss_cls: 0.5488, loss: 0.5488, grad_norm: 10.9447\n",
            "2020-07-12 06:33:23,605 - mmaction - INFO - Epoch [29][5/15]\tlr: 7.813e-05, eta: 0:00:15, time: 1.065, data_time: 0.645, memory: 2918, top1_acc: 0.8000, top5_acc: 1.0000, loss_cls: 0.6501, loss: 0.6501, grad_norm: 13.6429\n",
            "2020-07-12 06:33:25,606 - mmaction - INFO - Epoch [29][10/15]\tlr: 7.813e-05, eta: 0:00:12, time: 0.402, data_time: 0.006, memory: 2918, top1_acc: 0.9000, top5_acc: 1.0000, loss_cls: 0.4704, loss: 0.4704, grad_norm: 9.4478\n",
            "2020-07-12 06:33:27,482 - mmaction - INFO - Epoch [29][15/15]\tlr: 7.813e-05, eta: 0:00:09, time: 0.375, data_time: 0.001, memory: 2918, top1_acc: 0.7000, top5_acc: 1.0000, loss_cls: 0.4845, loss: 0.4845, grad_norm: 9.5059\n",
            "2020-07-12 06:33:32,974 - mmaction - INFO - Epoch [30][5/15]\tlr: 7.813e-05, eta: 0:00:06, time: 1.084, data_time: 0.662, memory: 2918, top1_acc: 0.6000, top5_acc: 1.0000, loss_cls: 0.6296, loss: 0.6296, grad_norm: 12.4063\n",
            "2020-07-12 06:33:34,940 - mmaction - INFO - Epoch [30][10/15]\tlr: 7.813e-05, eta: 0:00:03, time: 0.393, data_time: 0.003, memory: 2918, top1_acc: 0.9000, top5_acc: 1.0000, loss_cls: 0.3014, loss: 0.3014, grad_norm: 6.4904\n",
            "2020-07-12 06:33:36,820 - mmaction - INFO - Epoch [30][15/15]\tlr: 7.813e-05, eta: 0:00:00, time: 0.376, data_time: 0.001, memory: 2918, top1_acc: 0.7000, top5_acc: 1.0000, loss_cls: 0.5313, loss: 0.5313, grad_norm: 10.9358\n",
            "2020-07-12 06:33:36,890 - mmaction - INFO - Saving checkpoint at 30 epochs\n"
          ],
          "name": "stderr"
        },
        {
          "output_type": "stream",
          "text": [
            "[>>>>>>>>>>>>>>>>>>>>>>>>>>>>>>>>>] 10/10, 4.4 task/s, elapsed: 2s, ETA:     0s"
          ],
          "name": "stdout"
        },
        {
          "output_type": "stream",
          "text": [
            "2020-07-12 06:33:39,570 - mmaction - INFO - Evaluating top_k_accuracy...\n",
            "2020-07-12 06:33:39,572 - mmaction - INFO - \n",
            "top1_acc\t0.9000\n",
            "top5_acc\t1.0000\n",
            "2020-07-12 06:33:39,575 - mmaction - INFO - Evaluating mean_class_accuracy...\n",
            "2020-07-12 06:33:39,580 - mmaction - INFO - \n",
            "mean_acc\t0.9000\n",
            "2020-07-12 06:33:39,581 - mmaction - INFO - Epoch [30][15/15]\tlr: 7.813e-05, top1_acc: 0.9000, top5_acc: 1.0000, mean_class_accuracy: 0.9000\n"
          ],
          "name": "stderr"
        }
      ]
    },
    {
      "cell_type": "markdown",
      "metadata": {
        "id": "zdSd7oTLlxIf",
        "colab_type": "text"
      },
      "source": [
        "### Understand the log\n",
        "From the log, we can have a basic understanding the training process and know how well the recognizer is trained.\n",
        "\n",
        "Firstly, the ResNet-50 backbone pre-trained on ImageNet is loaded, this is a common practice since training from scratch is more cost. The log shows that all the weights of the ResNet-50 backbone are loaded except the `fc.bias` and `fc.weight`.\n",
        "\n",
        "Second, since the dataset we are using is small, we loaded a TSN model and finetune it for action recognition.\n",
        "The original TSN is trained on original Kinetics-400 dataset which contains 400 classes but Kinetics-400 Tiny dataset only have 2 classes. Therefore, the last FC layer of the pre-trained TSN for classification has different weight shape and is not used.\n",
        "\n",
        "Third, after training, the recognizer is evaluated by the default evaluation. The results show that the recognizer achieves 100% top1 accuracy and 100% top5 accuracy on the val dataset,\n",
        " \n",
        "Not bad!"
      ]
    },
    {
      "cell_type": "markdown",
      "metadata": {
        "id": "ryVoSfZVmogw",
        "colab_type": "text"
      },
      "source": [
        "## Test the trained recognizer\n",
        "\n",
        "After finetuning the recognizer, let's check the prediction results!"
      ]
    },
    {
      "cell_type": "code",
      "metadata": {
        "id": "eyY3hCMwyTct",
        "colab_type": "code",
        "colab": {}
      },
      "source": [
        "from mmaction.apis import single_gpu_test\n",
        "from mmaction.datasets import build_dataloader\n",
        "\n",
        "# Build a test dataloader\n",
        "dataset = build_dataset(cfg.data.test, dict(test_mode=True))\n",
        "data_loader = build_dataloader(\n",
        "        dataset,\n",
        "        videos_per_gpu=1,\n",
        "        workers_per_gpu=cfg.data.workers_per_gpu,\n",
        "        dist=False,\n",
        "        shuffle=False)\n",
        "outputs = single_gpu_test(model, data_loader)\n",
        "\n",
        "eval_config = cfg.eval_config\n",
        "eval_res = dataset.evaluate(outputs, **eval_config)\n",
        "for name, val in eval_res.items():\n",
        "    print(f'{name}: {val:.04f}')"
      ],
      "execution_count": null,
      "outputs": []
    }
  ]
}